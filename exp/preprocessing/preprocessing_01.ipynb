{
 "cells": [
  {
   "cell_type": "code",
   "execution_count": 1,
   "metadata": {},
   "outputs": [],
   "source": [
    "import pandas as pd\n",
    "import numpy as np\n",
    "import seaborn as sns\n",
    "import matplotlib.pyplot as plt\n",
    "\n",
    "from pathlib import Path"
   ]
  },
  {
   "cell_type": "code",
   "execution_count": 2,
   "metadata": {},
   "outputs": [],
   "source": [
    "pd.set_option('display.max_rows', 100)\n",
    "pd.set_option('display.max_columns', 100)\n",
    "pd.set_option('display.width', 1000)"
   ]
  },
  {
   "cell_type": "code",
   "execution_count": 3,
   "metadata": {},
   "outputs": [],
   "source": [
    "DATA = Path(\"../../data\")"
   ]
  },
  {
   "cell_type": "code",
   "execution_count": 4,
   "metadata": {},
   "outputs": [],
   "source": [
    "train_data = pd.read_csv(DATA / \"train.csv\")"
   ]
  },
  {
   "cell_type": "code",
   "execution_count": 5,
   "metadata": {},
   "outputs": [
    {
     "data": {
      "text/html": [
       "<div>\n",
       "<style scoped>\n",
       "    .dataframe tbody tr th:only-of-type {\n",
       "        vertical-align: middle;\n",
       "    }\n",
       "\n",
       "    .dataframe tbody tr th {\n",
       "        vertical-align: top;\n",
       "    }\n",
       "\n",
       "    .dataframe thead th {\n",
       "        text-align: right;\n",
       "    }\n",
       "</style>\n",
       "<table border=\"1\" class=\"dataframe\">\n",
       "  <thead>\n",
       "    <tr style=\"text-align: right;\">\n",
       "      <th></th>\n",
       "      <th>id</th>\n",
       "      <th>class</th>\n",
       "      <th>cap-diameter</th>\n",
       "      <th>cap-shape</th>\n",
       "      <th>cap-surface</th>\n",
       "      <th>cap-color</th>\n",
       "      <th>does-bruise-or-bleed</th>\n",
       "      <th>gill-attachment</th>\n",
       "      <th>gill-spacing</th>\n",
       "      <th>gill-color</th>\n",
       "      <th>stem-height</th>\n",
       "      <th>stem-width</th>\n",
       "      <th>stem-root</th>\n",
       "      <th>stem-surface</th>\n",
       "      <th>stem-color</th>\n",
       "      <th>veil-type</th>\n",
       "      <th>veil-color</th>\n",
       "      <th>has-ring</th>\n",
       "      <th>ring-type</th>\n",
       "      <th>spore-print-color</th>\n",
       "      <th>habitat</th>\n",
       "      <th>season</th>\n",
       "    </tr>\n",
       "  </thead>\n",
       "  <tbody>\n",
       "    <tr>\n",
       "      <th>0</th>\n",
       "      <td>0</td>\n",
       "      <td>e</td>\n",
       "      <td>8.80</td>\n",
       "      <td>f</td>\n",
       "      <td>s</td>\n",
       "      <td>u</td>\n",
       "      <td>f</td>\n",
       "      <td>a</td>\n",
       "      <td>c</td>\n",
       "      <td>w</td>\n",
       "      <td>4.51</td>\n",
       "      <td>15.39</td>\n",
       "      <td>NaN</td>\n",
       "      <td>NaN</td>\n",
       "      <td>w</td>\n",
       "      <td>NaN</td>\n",
       "      <td>NaN</td>\n",
       "      <td>f</td>\n",
       "      <td>f</td>\n",
       "      <td>NaN</td>\n",
       "      <td>d</td>\n",
       "      <td>a</td>\n",
       "    </tr>\n",
       "    <tr>\n",
       "      <th>1</th>\n",
       "      <td>1</td>\n",
       "      <td>p</td>\n",
       "      <td>4.51</td>\n",
       "      <td>x</td>\n",
       "      <td>h</td>\n",
       "      <td>o</td>\n",
       "      <td>f</td>\n",
       "      <td>a</td>\n",
       "      <td>c</td>\n",
       "      <td>n</td>\n",
       "      <td>4.79</td>\n",
       "      <td>6.48</td>\n",
       "      <td>NaN</td>\n",
       "      <td>y</td>\n",
       "      <td>o</td>\n",
       "      <td>NaN</td>\n",
       "      <td>NaN</td>\n",
       "      <td>t</td>\n",
       "      <td>z</td>\n",
       "      <td>NaN</td>\n",
       "      <td>d</td>\n",
       "      <td>w</td>\n",
       "    </tr>\n",
       "    <tr>\n",
       "      <th>2</th>\n",
       "      <td>2</td>\n",
       "      <td>e</td>\n",
       "      <td>6.94</td>\n",
       "      <td>f</td>\n",
       "      <td>s</td>\n",
       "      <td>b</td>\n",
       "      <td>f</td>\n",
       "      <td>x</td>\n",
       "      <td>c</td>\n",
       "      <td>w</td>\n",
       "      <td>6.85</td>\n",
       "      <td>9.93</td>\n",
       "      <td>NaN</td>\n",
       "      <td>s</td>\n",
       "      <td>n</td>\n",
       "      <td>NaN</td>\n",
       "      <td>NaN</td>\n",
       "      <td>f</td>\n",
       "      <td>f</td>\n",
       "      <td>NaN</td>\n",
       "      <td>l</td>\n",
       "      <td>w</td>\n",
       "    </tr>\n",
       "    <tr>\n",
       "      <th>3</th>\n",
       "      <td>3</td>\n",
       "      <td>e</td>\n",
       "      <td>3.88</td>\n",
       "      <td>f</td>\n",
       "      <td>y</td>\n",
       "      <td>g</td>\n",
       "      <td>f</td>\n",
       "      <td>s</td>\n",
       "      <td>NaN</td>\n",
       "      <td>g</td>\n",
       "      <td>4.16</td>\n",
       "      <td>6.53</td>\n",
       "      <td>NaN</td>\n",
       "      <td>NaN</td>\n",
       "      <td>w</td>\n",
       "      <td>NaN</td>\n",
       "      <td>NaN</td>\n",
       "      <td>f</td>\n",
       "      <td>f</td>\n",
       "      <td>NaN</td>\n",
       "      <td>d</td>\n",
       "      <td>u</td>\n",
       "    </tr>\n",
       "    <tr>\n",
       "      <th>4</th>\n",
       "      <td>4</td>\n",
       "      <td>e</td>\n",
       "      <td>5.85</td>\n",
       "      <td>x</td>\n",
       "      <td>l</td>\n",
       "      <td>w</td>\n",
       "      <td>f</td>\n",
       "      <td>d</td>\n",
       "      <td>NaN</td>\n",
       "      <td>w</td>\n",
       "      <td>3.37</td>\n",
       "      <td>8.36</td>\n",
       "      <td>NaN</td>\n",
       "      <td>NaN</td>\n",
       "      <td>w</td>\n",
       "      <td>NaN</td>\n",
       "      <td>NaN</td>\n",
       "      <td>f</td>\n",
       "      <td>f</td>\n",
       "      <td>NaN</td>\n",
       "      <td>g</td>\n",
       "      <td>a</td>\n",
       "    </tr>\n",
       "    <tr>\n",
       "      <th>5</th>\n",
       "      <td>5</td>\n",
       "      <td>p</td>\n",
       "      <td>4.30</td>\n",
       "      <td>x</td>\n",
       "      <td>t</td>\n",
       "      <td>n</td>\n",
       "      <td>f</td>\n",
       "      <td>s</td>\n",
       "      <td>c</td>\n",
       "      <td>n</td>\n",
       "      <td>5.91</td>\n",
       "      <td>8.20</td>\n",
       "      <td>NaN</td>\n",
       "      <td>NaN</td>\n",
       "      <td>w</td>\n",
       "      <td>NaN</td>\n",
       "      <td>n</td>\n",
       "      <td>t</td>\n",
       "      <td>z</td>\n",
       "      <td>NaN</td>\n",
       "      <td>d</td>\n",
       "      <td>a</td>\n",
       "    </tr>\n",
       "    <tr>\n",
       "      <th>6</th>\n",
       "      <td>6</td>\n",
       "      <td>e</td>\n",
       "      <td>9.65</td>\n",
       "      <td>p</td>\n",
       "      <td>y</td>\n",
       "      <td>w</td>\n",
       "      <td>f</td>\n",
       "      <td>e</td>\n",
       "      <td>c</td>\n",
       "      <td>k</td>\n",
       "      <td>19.07</td>\n",
       "      <td>12.69</td>\n",
       "      <td>NaN</td>\n",
       "      <td>s</td>\n",
       "      <td>w</td>\n",
       "      <td>NaN</td>\n",
       "      <td>NaN</td>\n",
       "      <td>t</td>\n",
       "      <td>e</td>\n",
       "      <td>NaN</td>\n",
       "      <td>g</td>\n",
       "      <td>w</td>\n",
       "    </tr>\n",
       "    <tr>\n",
       "      <th>7</th>\n",
       "      <td>7</td>\n",
       "      <td>p</td>\n",
       "      <td>4.55</td>\n",
       "      <td>x</td>\n",
       "      <td>e</td>\n",
       "      <td>e</td>\n",
       "      <td>f</td>\n",
       "      <td>a</td>\n",
       "      <td>NaN</td>\n",
       "      <td>y</td>\n",
       "      <td>8.31</td>\n",
       "      <td>9.77</td>\n",
       "      <td>NaN</td>\n",
       "      <td>NaN</td>\n",
       "      <td>y</td>\n",
       "      <td>NaN</td>\n",
       "      <td>w</td>\n",
       "      <td>t</td>\n",
       "      <td>z</td>\n",
       "      <td>NaN</td>\n",
       "      <td>d</td>\n",
       "      <td>a</td>\n",
       "    </tr>\n",
       "    <tr>\n",
       "      <th>8</th>\n",
       "      <td>8</td>\n",
       "      <td>p</td>\n",
       "      <td>7.36</td>\n",
       "      <td>f</td>\n",
       "      <td>h</td>\n",
       "      <td>e</td>\n",
       "      <td>f</td>\n",
       "      <td>x</td>\n",
       "      <td>d</td>\n",
       "      <td>w</td>\n",
       "      <td>5.77</td>\n",
       "      <td>17.13</td>\n",
       "      <td>b</td>\n",
       "      <td>NaN</td>\n",
       "      <td>w</td>\n",
       "      <td>NaN</td>\n",
       "      <td>NaN</td>\n",
       "      <td>f</td>\n",
       "      <td>f</td>\n",
       "      <td>NaN</td>\n",
       "      <td>d</td>\n",
       "      <td>a</td>\n",
       "    </tr>\n",
       "    <tr>\n",
       "      <th>9</th>\n",
       "      <td>9</td>\n",
       "      <td>e</td>\n",
       "      <td>6.45</td>\n",
       "      <td>x</td>\n",
       "      <td>t</td>\n",
       "      <td>n</td>\n",
       "      <td>f</td>\n",
       "      <td>a</td>\n",
       "      <td>d</td>\n",
       "      <td>w</td>\n",
       "      <td>7.13</td>\n",
       "      <td>12.77</td>\n",
       "      <td>NaN</td>\n",
       "      <td>NaN</td>\n",
       "      <td>e</td>\n",
       "      <td>NaN</td>\n",
       "      <td>NaN</td>\n",
       "      <td>f</td>\n",
       "      <td>f</td>\n",
       "      <td>NaN</td>\n",
       "      <td>d</td>\n",
       "      <td>a</td>\n",
       "    </tr>\n",
       "    <tr>\n",
       "      <th>10</th>\n",
       "      <td>10</td>\n",
       "      <td>e</td>\n",
       "      <td>7.49</td>\n",
       "      <td>f</td>\n",
       "      <td>t</td>\n",
       "      <td>n</td>\n",
       "      <td>f</td>\n",
       "      <td>s</td>\n",
       "      <td>NaN</td>\n",
       "      <td>n</td>\n",
       "      <td>9.14</td>\n",
       "      <td>13.00</td>\n",
       "      <td>NaN</td>\n",
       "      <td>t</td>\n",
       "      <td>o</td>\n",
       "      <td>NaN</td>\n",
       "      <td>NaN</td>\n",
       "      <td>f</td>\n",
       "      <td>f</td>\n",
       "      <td>NaN</td>\n",
       "      <td>d</td>\n",
       "      <td>a</td>\n",
       "    </tr>\n",
       "    <tr>\n",
       "      <th>11</th>\n",
       "      <td>11</td>\n",
       "      <td>e</td>\n",
       "      <td>8.30</td>\n",
       "      <td>x</td>\n",
       "      <td>y</td>\n",
       "      <td>n</td>\n",
       "      <td>f</td>\n",
       "      <td>NaN</td>\n",
       "      <td>NaN</td>\n",
       "      <td>w</td>\n",
       "      <td>6.56</td>\n",
       "      <td>24.11</td>\n",
       "      <td>b</td>\n",
       "      <td>NaN</td>\n",
       "      <td>n</td>\n",
       "      <td>NaN</td>\n",
       "      <td>w</td>\n",
       "      <td>t</td>\n",
       "      <td>e</td>\n",
       "      <td>NaN</td>\n",
       "      <td>d</td>\n",
       "      <td>w</td>\n",
       "    </tr>\n",
       "    <tr>\n",
       "      <th>12</th>\n",
       "      <td>12</td>\n",
       "      <td>e</td>\n",
       "      <td>2.74</td>\n",
       "      <td>b</td>\n",
       "      <td>g</td>\n",
       "      <td>n</td>\n",
       "      <td>f</td>\n",
       "      <td>a</td>\n",
       "      <td>d</td>\n",
       "      <td>g</td>\n",
       "      <td>4.33</td>\n",
       "      <td>2.57</td>\n",
       "      <td>NaN</td>\n",
       "      <td>s</td>\n",
       "      <td>n</td>\n",
       "      <td>NaN</td>\n",
       "      <td>NaN</td>\n",
       "      <td>f</td>\n",
       "      <td>f</td>\n",
       "      <td>NaN</td>\n",
       "      <td>d</td>\n",
       "      <td>s</td>\n",
       "    </tr>\n",
       "    <tr>\n",
       "      <th>13</th>\n",
       "      <td>13</td>\n",
       "      <td>e</td>\n",
       "      <td>6.53</td>\n",
       "      <td>x</td>\n",
       "      <td>y</td>\n",
       "      <td>n</td>\n",
       "      <td>f</td>\n",
       "      <td>e</td>\n",
       "      <td>c</td>\n",
       "      <td>w</td>\n",
       "      <td>6.37</td>\n",
       "      <td>10.29</td>\n",
       "      <td>NaN</td>\n",
       "      <td>y</td>\n",
       "      <td>n</td>\n",
       "      <td>NaN</td>\n",
       "      <td>NaN</td>\n",
       "      <td>f</td>\n",
       "      <td>f</td>\n",
       "      <td>NaN</td>\n",
       "      <td>d</td>\n",
       "      <td>a</td>\n",
       "    </tr>\n",
       "    <tr>\n",
       "      <th>14</th>\n",
       "      <td>14</td>\n",
       "      <td>p</td>\n",
       "      <td>3.91</td>\n",
       "      <td>b</td>\n",
       "      <td>t</td>\n",
       "      <td>n</td>\n",
       "      <td>f</td>\n",
       "      <td>NaN</td>\n",
       "      <td>NaN</td>\n",
       "      <td>n</td>\n",
       "      <td>9.81</td>\n",
       "      <td>5.55</td>\n",
       "      <td>NaN</td>\n",
       "      <td>NaN</td>\n",
       "      <td>w</td>\n",
       "      <td>NaN</td>\n",
       "      <td>NaN</td>\n",
       "      <td>t</td>\n",
       "      <td>NaN</td>\n",
       "      <td>k</td>\n",
       "      <td>g</td>\n",
       "      <td>u</td>\n",
       "    </tr>\n",
       "    <tr>\n",
       "      <th>15</th>\n",
       "      <td>15</td>\n",
       "      <td>p</td>\n",
       "      <td>2.82</td>\n",
       "      <td>o</td>\n",
       "      <td>NaN</td>\n",
       "      <td>n</td>\n",
       "      <td>f</td>\n",
       "      <td>f</td>\n",
       "      <td>f</td>\n",
       "      <td>f</td>\n",
       "      <td>4.66</td>\n",
       "      <td>25.88</td>\n",
       "      <td>NaN</td>\n",
       "      <td>g</td>\n",
       "      <td>n</td>\n",
       "      <td>NaN</td>\n",
       "      <td>NaN</td>\n",
       "      <td>f</td>\n",
       "      <td>f</td>\n",
       "      <td>NaN</td>\n",
       "      <td>d</td>\n",
       "      <td>u</td>\n",
       "    </tr>\n",
       "    <tr>\n",
       "      <th>16</th>\n",
       "      <td>16</td>\n",
       "      <td>p</td>\n",
       "      <td>7.65</td>\n",
       "      <td>x</td>\n",
       "      <td>g</td>\n",
       "      <td>n</td>\n",
       "      <td>f</td>\n",
       "      <td>e</td>\n",
       "      <td>NaN</td>\n",
       "      <td>w</td>\n",
       "      <td>7.59</td>\n",
       "      <td>15.45</td>\n",
       "      <td>NaN</td>\n",
       "      <td>y</td>\n",
       "      <td>w</td>\n",
       "      <td>u</td>\n",
       "      <td>w</td>\n",
       "      <td>t</td>\n",
       "      <td>p</td>\n",
       "      <td>NaN</td>\n",
       "      <td>d</td>\n",
       "      <td>a</td>\n",
       "    </tr>\n",
       "    <tr>\n",
       "      <th>17</th>\n",
       "      <td>17</td>\n",
       "      <td>p</td>\n",
       "      <td>9.87</td>\n",
       "      <td>p</td>\n",
       "      <td>NaN</td>\n",
       "      <td>n</td>\n",
       "      <td>f</td>\n",
       "      <td>p</td>\n",
       "      <td>NaN</td>\n",
       "      <td>p</td>\n",
       "      <td>10.03</td>\n",
       "      <td>33.03</td>\n",
       "      <td>c</td>\n",
       "      <td>NaN</td>\n",
       "      <td>n</td>\n",
       "      <td>NaN</td>\n",
       "      <td>NaN</td>\n",
       "      <td>f</td>\n",
       "      <td>f</td>\n",
       "      <td>w</td>\n",
       "      <td>d</td>\n",
       "      <td>u</td>\n",
       "    </tr>\n",
       "    <tr>\n",
       "      <th>18</th>\n",
       "      <td>18</td>\n",
       "      <td>e</td>\n",
       "      <td>0.74</td>\n",
       "      <td>c</td>\n",
       "      <td>g</td>\n",
       "      <td>e</td>\n",
       "      <td>t</td>\n",
       "      <td>a</td>\n",
       "      <td>NaN</td>\n",
       "      <td>p</td>\n",
       "      <td>4.92</td>\n",
       "      <td>0.99</td>\n",
       "      <td>NaN</td>\n",
       "      <td>NaN</td>\n",
       "      <td>n</td>\n",
       "      <td>NaN</td>\n",
       "      <td>NaN</td>\n",
       "      <td>f</td>\n",
       "      <td>f</td>\n",
       "      <td>NaN</td>\n",
       "      <td>h</td>\n",
       "      <td>u</td>\n",
       "    </tr>\n",
       "    <tr>\n",
       "      <th>19</th>\n",
       "      <td>19</td>\n",
       "      <td>p</td>\n",
       "      <td>7.43</td>\n",
       "      <td>s</td>\n",
       "      <td>d</td>\n",
       "      <td>n</td>\n",
       "      <td>t</td>\n",
       "      <td>d</td>\n",
       "      <td>c</td>\n",
       "      <td>y</td>\n",
       "      <td>6.21</td>\n",
       "      <td>9.49</td>\n",
       "      <td>NaN</td>\n",
       "      <td>NaN</td>\n",
       "      <td>e</td>\n",
       "      <td>NaN</td>\n",
       "      <td>NaN</td>\n",
       "      <td>f</td>\n",
       "      <td>f</td>\n",
       "      <td>NaN</td>\n",
       "      <td>d</td>\n",
       "      <td>a</td>\n",
       "    </tr>\n",
       "    <tr>\n",
       "      <th>20</th>\n",
       "      <td>20</td>\n",
       "      <td>e</td>\n",
       "      <td>7.50</td>\n",
       "      <td>f</td>\n",
       "      <td>d</td>\n",
       "      <td>w</td>\n",
       "      <td>f</td>\n",
       "      <td>s</td>\n",
       "      <td>c</td>\n",
       "      <td>w</td>\n",
       "      <td>5.42</td>\n",
       "      <td>19.02</td>\n",
       "      <td>NaN</td>\n",
       "      <td>NaN</td>\n",
       "      <td>w</td>\n",
       "      <td>NaN</td>\n",
       "      <td>NaN</td>\n",
       "      <td>f</td>\n",
       "      <td>f</td>\n",
       "      <td>NaN</td>\n",
       "      <td>d</td>\n",
       "      <td>s</td>\n",
       "    </tr>\n",
       "    <tr>\n",
       "      <th>21</th>\n",
       "      <td>21</td>\n",
       "      <td>p</td>\n",
       "      <td>2.39</td>\n",
       "      <td>x</td>\n",
       "      <td>g</td>\n",
       "      <td>e</td>\n",
       "      <td>f</td>\n",
       "      <td>a</td>\n",
       "      <td>NaN</td>\n",
       "      <td>p</td>\n",
       "      <td>5.81</td>\n",
       "      <td>2.41</td>\n",
       "      <td>NaN</td>\n",
       "      <td>NaN</td>\n",
       "      <td>w</td>\n",
       "      <td>NaN</td>\n",
       "      <td>NaN</td>\n",
       "      <td>f</td>\n",
       "      <td>f</td>\n",
       "      <td>NaN</td>\n",
       "      <td>d</td>\n",
       "      <td>a</td>\n",
       "    </tr>\n",
       "    <tr>\n",
       "      <th>22</th>\n",
       "      <td>22</td>\n",
       "      <td>e</td>\n",
       "      <td>4.41</td>\n",
       "      <td>x</td>\n",
       "      <td>s</td>\n",
       "      <td>n</td>\n",
       "      <td>f</td>\n",
       "      <td>p</td>\n",
       "      <td>NaN</td>\n",
       "      <td>n</td>\n",
       "      <td>5.79</td>\n",
       "      <td>11.21</td>\n",
       "      <td>NaN</td>\n",
       "      <td>NaN</td>\n",
       "      <td>e</td>\n",
       "      <td>NaN</td>\n",
       "      <td>NaN</td>\n",
       "      <td>f</td>\n",
       "      <td>f</td>\n",
       "      <td>NaN</td>\n",
       "      <td>d</td>\n",
       "      <td>a</td>\n",
       "    </tr>\n",
       "    <tr>\n",
       "      <th>23</th>\n",
       "      <td>23</td>\n",
       "      <td>e</td>\n",
       "      <td>10.33</td>\n",
       "      <td>x</td>\n",
       "      <td>i</td>\n",
       "      <td>n</td>\n",
       "      <td>t</td>\n",
       "      <td>e</td>\n",
       "      <td>NaN</td>\n",
       "      <td>p</td>\n",
       "      <td>9.01</td>\n",
       "      <td>18.77</td>\n",
       "      <td>NaN</td>\n",
       "      <td>y</td>\n",
       "      <td>w</td>\n",
       "      <td>NaN</td>\n",
       "      <td>NaN</td>\n",
       "      <td>t</td>\n",
       "      <td>l</td>\n",
       "      <td>NaN</td>\n",
       "      <td>d</td>\n",
       "      <td>a</td>\n",
       "    </tr>\n",
       "    <tr>\n",
       "      <th>24</th>\n",
       "      <td>24</td>\n",
       "      <td>p</td>\n",
       "      <td>5.74</td>\n",
       "      <td>x</td>\n",
       "      <td>NaN</td>\n",
       "      <td>g</td>\n",
       "      <td>f</td>\n",
       "      <td>d</td>\n",
       "      <td>c</td>\n",
       "      <td>w</td>\n",
       "      <td>5.23</td>\n",
       "      <td>11.25</td>\n",
       "      <td>b</td>\n",
       "      <td>NaN</td>\n",
       "      <td>n</td>\n",
       "      <td>NaN</td>\n",
       "      <td>NaN</td>\n",
       "      <td>f</td>\n",
       "      <td>f</td>\n",
       "      <td>NaN</td>\n",
       "      <td>l</td>\n",
       "      <td>w</td>\n",
       "    </tr>\n",
       "    <tr>\n",
       "      <th>25</th>\n",
       "      <td>25</td>\n",
       "      <td>e</td>\n",
       "      <td>3.64</td>\n",
       "      <td>b</td>\n",
       "      <td>g</td>\n",
       "      <td>g</td>\n",
       "      <td>f</td>\n",
       "      <td>a</td>\n",
       "      <td>d</td>\n",
       "      <td>g</td>\n",
       "      <td>5.35</td>\n",
       "      <td>3.56</td>\n",
       "      <td>NaN</td>\n",
       "      <td>s</td>\n",
       "      <td>n</td>\n",
       "      <td>NaN</td>\n",
       "      <td>NaN</td>\n",
       "      <td>f</td>\n",
       "      <td>f</td>\n",
       "      <td>NaN</td>\n",
       "      <td>d</td>\n",
       "      <td>a</td>\n",
       "    </tr>\n",
       "    <tr>\n",
       "      <th>26</th>\n",
       "      <td>26</td>\n",
       "      <td>e</td>\n",
       "      <td>3.03</td>\n",
       "      <td>x</td>\n",
       "      <td>s</td>\n",
       "      <td>w</td>\n",
       "      <td>f</td>\n",
       "      <td>d</td>\n",
       "      <td>d</td>\n",
       "      <td>w</td>\n",
       "      <td>2.72</td>\n",
       "      <td>5.70</td>\n",
       "      <td>NaN</td>\n",
       "      <td>NaN</td>\n",
       "      <td>w</td>\n",
       "      <td>NaN</td>\n",
       "      <td>NaN</td>\n",
       "      <td>f</td>\n",
       "      <td>f</td>\n",
       "      <td>NaN</td>\n",
       "      <td>g</td>\n",
       "      <td>a</td>\n",
       "    </tr>\n",
       "    <tr>\n",
       "      <th>27</th>\n",
       "      <td>27</td>\n",
       "      <td>e</td>\n",
       "      <td>6.46</td>\n",
       "      <td>x</td>\n",
       "      <td>y</td>\n",
       "      <td>n</td>\n",
       "      <td>f</td>\n",
       "      <td>e</td>\n",
       "      <td>c</td>\n",
       "      <td>w</td>\n",
       "      <td>4.59</td>\n",
       "      <td>10.76</td>\n",
       "      <td>NaN</td>\n",
       "      <td>y</td>\n",
       "      <td>n</td>\n",
       "      <td>NaN</td>\n",
       "      <td>NaN</td>\n",
       "      <td>f</td>\n",
       "      <td>f</td>\n",
       "      <td>NaN</td>\n",
       "      <td>d</td>\n",
       "      <td>a</td>\n",
       "    </tr>\n",
       "    <tr>\n",
       "      <th>28</th>\n",
       "      <td>28</td>\n",
       "      <td>e</td>\n",
       "      <td>6.20</td>\n",
       "      <td>x</td>\n",
       "      <td>h</td>\n",
       "      <td>y</td>\n",
       "      <td>t</td>\n",
       "      <td>x</td>\n",
       "      <td>c</td>\n",
       "      <td>y</td>\n",
       "      <td>7.06</td>\n",
       "      <td>13.55</td>\n",
       "      <td>NaN</td>\n",
       "      <td>NaN</td>\n",
       "      <td>w</td>\n",
       "      <td>NaN</td>\n",
       "      <td>NaN</td>\n",
       "      <td>f</td>\n",
       "      <td>f</td>\n",
       "      <td>NaN</td>\n",
       "      <td>d</td>\n",
       "      <td>u</td>\n",
       "    </tr>\n",
       "    <tr>\n",
       "      <th>29</th>\n",
       "      <td>29</td>\n",
       "      <td>p</td>\n",
       "      <td>3.69</td>\n",
       "      <td>o</td>\n",
       "      <td>NaN</td>\n",
       "      <td>w</td>\n",
       "      <td>f</td>\n",
       "      <td>f</td>\n",
       "      <td>f</td>\n",
       "      <td>f</td>\n",
       "      <td>5.01</td>\n",
       "      <td>29.27</td>\n",
       "      <td>NaN</td>\n",
       "      <td>g</td>\n",
       "      <td>w</td>\n",
       "      <td>NaN</td>\n",
       "      <td>NaN</td>\n",
       "      <td>t</td>\n",
       "      <td>f</td>\n",
       "      <td>NaN</td>\n",
       "      <td>p</td>\n",
       "      <td>u</td>\n",
       "    </tr>\n",
       "    <tr>\n",
       "      <th>30</th>\n",
       "      <td>30</td>\n",
       "      <td>p</td>\n",
       "      <td>11.37</td>\n",
       "      <td>x</td>\n",
       "      <td>e</td>\n",
       "      <td>n</td>\n",
       "      <td>t</td>\n",
       "      <td>p</td>\n",
       "      <td>NaN</td>\n",
       "      <td>o</td>\n",
       "      <td>7.72</td>\n",
       "      <td>23.92</td>\n",
       "      <td>NaN</td>\n",
       "      <td>NaN</td>\n",
       "      <td>u</td>\n",
       "      <td>NaN</td>\n",
       "      <td>NaN</td>\n",
       "      <td>f</td>\n",
       "      <td>f</td>\n",
       "      <td>NaN</td>\n",
       "      <td>d</td>\n",
       "      <td>a</td>\n",
       "    </tr>\n",
       "    <tr>\n",
       "      <th>31</th>\n",
       "      <td>31</td>\n",
       "      <td>e</td>\n",
       "      <td>7.80</td>\n",
       "      <td>x</td>\n",
       "      <td>NaN</td>\n",
       "      <td>n</td>\n",
       "      <td>t</td>\n",
       "      <td>p</td>\n",
       "      <td>NaN</td>\n",
       "      <td>g</td>\n",
       "      <td>10.64</td>\n",
       "      <td>23.05</td>\n",
       "      <td>NaN</td>\n",
       "      <td>y</td>\n",
       "      <td>w</td>\n",
       "      <td>NaN</td>\n",
       "      <td>NaN</td>\n",
       "      <td>f</td>\n",
       "      <td>f</td>\n",
       "      <td>NaN</td>\n",
       "      <td>d</td>\n",
       "      <td>u</td>\n",
       "    </tr>\n",
       "    <tr>\n",
       "      <th>32</th>\n",
       "      <td>32</td>\n",
       "      <td>p</td>\n",
       "      <td>8.69</td>\n",
       "      <td>o</td>\n",
       "      <td>e</td>\n",
       "      <td>r</td>\n",
       "      <td>f</td>\n",
       "      <td>NaN</td>\n",
       "      <td>c</td>\n",
       "      <td>o</td>\n",
       "      <td>1.51</td>\n",
       "      <td>14.09</td>\n",
       "      <td>NaN</td>\n",
       "      <td>NaN</td>\n",
       "      <td>y</td>\n",
       "      <td>NaN</td>\n",
       "      <td>NaN</td>\n",
       "      <td>f</td>\n",
       "      <td>f</td>\n",
       "      <td>NaN</td>\n",
       "      <td>d</td>\n",
       "      <td>u</td>\n",
       "    </tr>\n",
       "    <tr>\n",
       "      <th>33</th>\n",
       "      <td>33</td>\n",
       "      <td>p</td>\n",
       "      <td>5.06</td>\n",
       "      <td>s</td>\n",
       "      <td>d</td>\n",
       "      <td>o</td>\n",
       "      <td>f</td>\n",
       "      <td>d</td>\n",
       "      <td>c</td>\n",
       "      <td>y</td>\n",
       "      <td>3.19</td>\n",
       "      <td>5.85</td>\n",
       "      <td>NaN</td>\n",
       "      <td>NaN</td>\n",
       "      <td>y</td>\n",
       "      <td>NaN</td>\n",
       "      <td>NaN</td>\n",
       "      <td>f</td>\n",
       "      <td>f</td>\n",
       "      <td>NaN</td>\n",
       "      <td>d</td>\n",
       "      <td>u</td>\n",
       "    </tr>\n",
       "    <tr>\n",
       "      <th>34</th>\n",
       "      <td>34</td>\n",
       "      <td>e</td>\n",
       "      <td>5.81</td>\n",
       "      <td>s</td>\n",
       "      <td>l</td>\n",
       "      <td>n</td>\n",
       "      <td>f</td>\n",
       "      <td>f</td>\n",
       "      <td>f</td>\n",
       "      <td>f</td>\n",
       "      <td>6.35</td>\n",
       "      <td>23.10</td>\n",
       "      <td>NaN</td>\n",
       "      <td>NaN</td>\n",
       "      <td>n</td>\n",
       "      <td>NaN</td>\n",
       "      <td>NaN</td>\n",
       "      <td>f</td>\n",
       "      <td>f</td>\n",
       "      <td>NaN</td>\n",
       "      <td>d</td>\n",
       "      <td>u</td>\n",
       "    </tr>\n",
       "    <tr>\n",
       "      <th>35</th>\n",
       "      <td>35</td>\n",
       "      <td>e</td>\n",
       "      <td>7.76</td>\n",
       "      <td>x</td>\n",
       "      <td>d</td>\n",
       "      <td>n</td>\n",
       "      <td>t</td>\n",
       "      <td>p</td>\n",
       "      <td>NaN</td>\n",
       "      <td>y</td>\n",
       "      <td>8.29</td>\n",
       "      <td>16.74</td>\n",
       "      <td>NaN</td>\n",
       "      <td>NaN</td>\n",
       "      <td>y</td>\n",
       "      <td>NaN</td>\n",
       "      <td>NaN</td>\n",
       "      <td>f</td>\n",
       "      <td>f</td>\n",
       "      <td>NaN</td>\n",
       "      <td>d</td>\n",
       "      <td>a</td>\n",
       "    </tr>\n",
       "    <tr>\n",
       "      <th>36</th>\n",
       "      <td>36</td>\n",
       "      <td>p</td>\n",
       "      <td>6.93</td>\n",
       "      <td>f</td>\n",
       "      <td>w</td>\n",
       "      <td>n</td>\n",
       "      <td>f</td>\n",
       "      <td>x</td>\n",
       "      <td>NaN</td>\n",
       "      <td>w</td>\n",
       "      <td>14.00</td>\n",
       "      <td>7.60</td>\n",
       "      <td>r</td>\n",
       "      <td>g</td>\n",
       "      <td>n</td>\n",
       "      <td>NaN</td>\n",
       "      <td>NaN</td>\n",
       "      <td>f</td>\n",
       "      <td>f</td>\n",
       "      <td>NaN</td>\n",
       "      <td>l</td>\n",
       "      <td>a</td>\n",
       "    </tr>\n",
       "    <tr>\n",
       "      <th>37</th>\n",
       "      <td>37</td>\n",
       "      <td>p</td>\n",
       "      <td>8.63</td>\n",
       "      <td>s</td>\n",
       "      <td>t</td>\n",
       "      <td>p</td>\n",
       "      <td>t</td>\n",
       "      <td>d</td>\n",
       "      <td>c</td>\n",
       "      <td>p</td>\n",
       "      <td>7.21</td>\n",
       "      <td>12.69</td>\n",
       "      <td>NaN</td>\n",
       "      <td>NaN</td>\n",
       "      <td>p</td>\n",
       "      <td>NaN</td>\n",
       "      <td>NaN</td>\n",
       "      <td>f</td>\n",
       "      <td>f</td>\n",
       "      <td>NaN</td>\n",
       "      <td>d</td>\n",
       "      <td>a</td>\n",
       "    </tr>\n",
       "    <tr>\n",
       "      <th>38</th>\n",
       "      <td>38</td>\n",
       "      <td>e</td>\n",
       "      <td>4.31</td>\n",
       "      <td>f</td>\n",
       "      <td>y</td>\n",
       "      <td>g</td>\n",
       "      <td>f</td>\n",
       "      <td>s</td>\n",
       "      <td>NaN</td>\n",
       "      <td>g</td>\n",
       "      <td>5.96</td>\n",
       "      <td>8.04</td>\n",
       "      <td>NaN</td>\n",
       "      <td>NaN</td>\n",
       "      <td>w</td>\n",
       "      <td>NaN</td>\n",
       "      <td>NaN</td>\n",
       "      <td>f</td>\n",
       "      <td>f</td>\n",
       "      <td>NaN</td>\n",
       "      <td>d</td>\n",
       "      <td>a</td>\n",
       "    </tr>\n",
       "    <tr>\n",
       "      <th>39</th>\n",
       "      <td>39</td>\n",
       "      <td>p</td>\n",
       "      <td>7.10</td>\n",
       "      <td>x</td>\n",
       "      <td>w</td>\n",
       "      <td>p</td>\n",
       "      <td>f</td>\n",
       "      <td>s</td>\n",
       "      <td>c</td>\n",
       "      <td>p</td>\n",
       "      <td>4.96</td>\n",
       "      <td>7.01</td>\n",
       "      <td>NaN</td>\n",
       "      <td>NaN</td>\n",
       "      <td>p</td>\n",
       "      <td>NaN</td>\n",
       "      <td>NaN</td>\n",
       "      <td>f</td>\n",
       "      <td>f</td>\n",
       "      <td>NaN</td>\n",
       "      <td>d</td>\n",
       "      <td>w</td>\n",
       "    </tr>\n",
       "    <tr>\n",
       "      <th>40</th>\n",
       "      <td>40</td>\n",
       "      <td>e</td>\n",
       "      <td>7.97</td>\n",
       "      <td>f</td>\n",
       "      <td>s</td>\n",
       "      <td>k</td>\n",
       "      <td>f</td>\n",
       "      <td>a</td>\n",
       "      <td>c</td>\n",
       "      <td>w</td>\n",
       "      <td>4.47</td>\n",
       "      <td>14.93</td>\n",
       "      <td>NaN</td>\n",
       "      <td>NaN</td>\n",
       "      <td>w</td>\n",
       "      <td>NaN</td>\n",
       "      <td>NaN</td>\n",
       "      <td>f</td>\n",
       "      <td>f</td>\n",
       "      <td>NaN</td>\n",
       "      <td>d</td>\n",
       "      <td>a</td>\n",
       "    </tr>\n",
       "    <tr>\n",
       "      <th>41</th>\n",
       "      <td>41</td>\n",
       "      <td>p</td>\n",
       "      <td>3.33</td>\n",
       "      <td>x</td>\n",
       "      <td>t</td>\n",
       "      <td>n</td>\n",
       "      <td>f</td>\n",
       "      <td>s</td>\n",
       "      <td>c</td>\n",
       "      <td>n</td>\n",
       "      <td>5.57</td>\n",
       "      <td>7.98</td>\n",
       "      <td>NaN</td>\n",
       "      <td>NaN</td>\n",
       "      <td>w</td>\n",
       "      <td>NaN</td>\n",
       "      <td>n</td>\n",
       "      <td>t</td>\n",
       "      <td>z</td>\n",
       "      <td>NaN</td>\n",
       "      <td>d</td>\n",
       "      <td>u</td>\n",
       "    </tr>\n",
       "    <tr>\n",
       "      <th>42</th>\n",
       "      <td>42</td>\n",
       "      <td>p</td>\n",
       "      <td>1.26</td>\n",
       "      <td>x</td>\n",
       "      <td>s</td>\n",
       "      <td>y</td>\n",
       "      <td>f</td>\n",
       "      <td>f</td>\n",
       "      <td>f</td>\n",
       "      <td>f</td>\n",
       "      <td>4.64</td>\n",
       "      <td>5.82</td>\n",
       "      <td>NaN</td>\n",
       "      <td>NaN</td>\n",
       "      <td>y</td>\n",
       "      <td>NaN</td>\n",
       "      <td>NaN</td>\n",
       "      <td>f</td>\n",
       "      <td>f</td>\n",
       "      <td>NaN</td>\n",
       "      <td>d</td>\n",
       "      <td>a</td>\n",
       "    </tr>\n",
       "    <tr>\n",
       "      <th>43</th>\n",
       "      <td>43</td>\n",
       "      <td>e</td>\n",
       "      <td>8.05</td>\n",
       "      <td>s</td>\n",
       "      <td>t</td>\n",
       "      <td>p</td>\n",
       "      <td>t</td>\n",
       "      <td>d</td>\n",
       "      <td>c</td>\n",
       "      <td>o</td>\n",
       "      <td>6.78</td>\n",
       "      <td>13.64</td>\n",
       "      <td>NaN</td>\n",
       "      <td>NaN</td>\n",
       "      <td>w</td>\n",
       "      <td>NaN</td>\n",
       "      <td>NaN</td>\n",
       "      <td>f</td>\n",
       "      <td>f</td>\n",
       "      <td>NaN</td>\n",
       "      <td>d</td>\n",
       "      <td>a</td>\n",
       "    </tr>\n",
       "    <tr>\n",
       "      <th>44</th>\n",
       "      <td>44</td>\n",
       "      <td>p</td>\n",
       "      <td>7.21</td>\n",
       "      <td>f</td>\n",
       "      <td>t</td>\n",
       "      <td>y</td>\n",
       "      <td>f</td>\n",
       "      <td>x</td>\n",
       "      <td>c</td>\n",
       "      <td>y</td>\n",
       "      <td>5.55</td>\n",
       "      <td>15.39</td>\n",
       "      <td>NaN</td>\n",
       "      <td>NaN</td>\n",
       "      <td>y</td>\n",
       "      <td>NaN</td>\n",
       "      <td>NaN</td>\n",
       "      <td>f</td>\n",
       "      <td>f</td>\n",
       "      <td>NaN</td>\n",
       "      <td>d</td>\n",
       "      <td>a</td>\n",
       "    </tr>\n",
       "    <tr>\n",
       "      <th>45</th>\n",
       "      <td>45</td>\n",
       "      <td>p</td>\n",
       "      <td>4.40</td>\n",
       "      <td>f</td>\n",
       "      <td>NaN</td>\n",
       "      <td>u</td>\n",
       "      <td>f</td>\n",
       "      <td>a</td>\n",
       "      <td>NaN</td>\n",
       "      <td>w</td>\n",
       "      <td>4.43</td>\n",
       "      <td>7.30</td>\n",
       "      <td>NaN</td>\n",
       "      <td>NaN</td>\n",
       "      <td>y</td>\n",
       "      <td>NaN</td>\n",
       "      <td>NaN</td>\n",
       "      <td>f</td>\n",
       "      <td>f</td>\n",
       "      <td>NaN</td>\n",
       "      <td>d</td>\n",
       "      <td>u</td>\n",
       "    </tr>\n",
       "    <tr>\n",
       "      <th>46</th>\n",
       "      <td>46</td>\n",
       "      <td>e</td>\n",
       "      <td>6.99</td>\n",
       "      <td>s</td>\n",
       "      <td>d</td>\n",
       "      <td>o</td>\n",
       "      <td>f</td>\n",
       "      <td>d</td>\n",
       "      <td>d</td>\n",
       "      <td>b</td>\n",
       "      <td>5.70</td>\n",
       "      <td>12.40</td>\n",
       "      <td>NaN</td>\n",
       "      <td>NaN</td>\n",
       "      <td>w</td>\n",
       "      <td>NaN</td>\n",
       "      <td>NaN</td>\n",
       "      <td>f</td>\n",
       "      <td>f</td>\n",
       "      <td>NaN</td>\n",
       "      <td>g</td>\n",
       "      <td>w</td>\n",
       "    </tr>\n",
       "    <tr>\n",
       "      <th>47</th>\n",
       "      <td>47</td>\n",
       "      <td>p</td>\n",
       "      <td>4.37</td>\n",
       "      <td>b</td>\n",
       "      <td>s</td>\n",
       "      <td>y</td>\n",
       "      <td>f</td>\n",
       "      <td>NaN</td>\n",
       "      <td>c</td>\n",
       "      <td>k</td>\n",
       "      <td>9.39</td>\n",
       "      <td>8.22</td>\n",
       "      <td>NaN</td>\n",
       "      <td>NaN</td>\n",
       "      <td>y</td>\n",
       "      <td>u</td>\n",
       "      <td>w</td>\n",
       "      <td>t</td>\n",
       "      <td>z</td>\n",
       "      <td>k</td>\n",
       "      <td>d</td>\n",
       "      <td>w</td>\n",
       "    </tr>\n",
       "    <tr>\n",
       "      <th>48</th>\n",
       "      <td>48</td>\n",
       "      <td>e</td>\n",
       "      <td>5.02</td>\n",
       "      <td>x</td>\n",
       "      <td>h</td>\n",
       "      <td>o</td>\n",
       "      <td>f</td>\n",
       "      <td>a</td>\n",
       "      <td>d</td>\n",
       "      <td>w</td>\n",
       "      <td>5.56</td>\n",
       "      <td>4.60</td>\n",
       "      <td>NaN</td>\n",
       "      <td>s</td>\n",
       "      <td>n</td>\n",
       "      <td>NaN</td>\n",
       "      <td>NaN</td>\n",
       "      <td>f</td>\n",
       "      <td>f</td>\n",
       "      <td>NaN</td>\n",
       "      <td>d</td>\n",
       "      <td>s</td>\n",
       "    </tr>\n",
       "    <tr>\n",
       "      <th>49</th>\n",
       "      <td>49</td>\n",
       "      <td>p</td>\n",
       "      <td>1.87</td>\n",
       "      <td>b</td>\n",
       "      <td>NaN</td>\n",
       "      <td>g</td>\n",
       "      <td>f</td>\n",
       "      <td>a</td>\n",
       "      <td>NaN</td>\n",
       "      <td>g</td>\n",
       "      <td>5.08</td>\n",
       "      <td>1.89</td>\n",
       "      <td>NaN</td>\n",
       "      <td>s</td>\n",
       "      <td>n</td>\n",
       "      <td>NaN</td>\n",
       "      <td>NaN</td>\n",
       "      <td>f</td>\n",
       "      <td>f</td>\n",
       "      <td>NaN</td>\n",
       "      <td>d</td>\n",
       "      <td>s</td>\n",
       "    </tr>\n",
       "  </tbody>\n",
       "</table>\n",
       "</div>"
      ],
      "text/plain": [
       "    id class  cap-diameter cap-shape cap-surface cap-color does-bruise-or-bleed gill-attachment gill-spacing gill-color  stem-height  stem-width stem-root stem-surface stem-color veil-type veil-color has-ring ring-type spore-print-color habitat season\n",
       "0    0     e          8.80         f           s         u                    f               a            c          w         4.51       15.39       NaN          NaN          w       NaN        NaN        f         f               NaN       d      a\n",
       "1    1     p          4.51         x           h         o                    f               a            c          n         4.79        6.48       NaN            y          o       NaN        NaN        t         z               NaN       d      w\n",
       "2    2     e          6.94         f           s         b                    f               x            c          w         6.85        9.93       NaN            s          n       NaN        NaN        f         f               NaN       l      w\n",
       "3    3     e          3.88         f           y         g                    f               s          NaN          g         4.16        6.53       NaN          NaN          w       NaN        NaN        f         f               NaN       d      u\n",
       "4    4     e          5.85         x           l         w                    f               d          NaN          w         3.37        8.36       NaN          NaN          w       NaN        NaN        f         f               NaN       g      a\n",
       "5    5     p          4.30         x           t         n                    f               s            c          n         5.91        8.20       NaN          NaN          w       NaN          n        t         z               NaN       d      a\n",
       "6    6     e          9.65         p           y         w                    f               e            c          k        19.07       12.69       NaN            s          w       NaN        NaN        t         e               NaN       g      w\n",
       "7    7     p          4.55         x           e         e                    f               a          NaN          y         8.31        9.77       NaN          NaN          y       NaN          w        t         z               NaN       d      a\n",
       "8    8     p          7.36         f           h         e                    f               x            d          w         5.77       17.13         b          NaN          w       NaN        NaN        f         f               NaN       d      a\n",
       "9    9     e          6.45         x           t         n                    f               a            d          w         7.13       12.77       NaN          NaN          e       NaN        NaN        f         f               NaN       d      a\n",
       "10  10     e          7.49         f           t         n                    f               s          NaN          n         9.14       13.00       NaN            t          o       NaN        NaN        f         f               NaN       d      a\n",
       "11  11     e          8.30         x           y         n                    f             NaN          NaN          w         6.56       24.11         b          NaN          n       NaN          w        t         e               NaN       d      w\n",
       "12  12     e          2.74         b           g         n                    f               a            d          g         4.33        2.57       NaN            s          n       NaN        NaN        f         f               NaN       d      s\n",
       "13  13     e          6.53         x           y         n                    f               e            c          w         6.37       10.29       NaN            y          n       NaN        NaN        f         f               NaN       d      a\n",
       "14  14     p          3.91         b           t         n                    f             NaN          NaN          n         9.81        5.55       NaN          NaN          w       NaN        NaN        t       NaN                 k       g      u\n",
       "15  15     p          2.82         o         NaN         n                    f               f            f          f         4.66       25.88       NaN            g          n       NaN        NaN        f         f               NaN       d      u\n",
       "16  16     p          7.65         x           g         n                    f               e          NaN          w         7.59       15.45       NaN            y          w         u          w        t         p               NaN       d      a\n",
       "17  17     p          9.87         p         NaN         n                    f               p          NaN          p        10.03       33.03         c          NaN          n       NaN        NaN        f         f                 w       d      u\n",
       "18  18     e          0.74         c           g         e                    t               a          NaN          p         4.92        0.99       NaN          NaN          n       NaN        NaN        f         f               NaN       h      u\n",
       "19  19     p          7.43         s           d         n                    t               d            c          y         6.21        9.49       NaN          NaN          e       NaN        NaN        f         f               NaN       d      a\n",
       "20  20     e          7.50         f           d         w                    f               s            c          w         5.42       19.02       NaN          NaN          w       NaN        NaN        f         f               NaN       d      s\n",
       "21  21     p          2.39         x           g         e                    f               a          NaN          p         5.81        2.41       NaN          NaN          w       NaN        NaN        f         f               NaN       d      a\n",
       "22  22     e          4.41         x           s         n                    f               p          NaN          n         5.79       11.21       NaN          NaN          e       NaN        NaN        f         f               NaN       d      a\n",
       "23  23     e         10.33         x           i         n                    t               e          NaN          p         9.01       18.77       NaN            y          w       NaN        NaN        t         l               NaN       d      a\n",
       "24  24     p          5.74         x         NaN         g                    f               d            c          w         5.23       11.25         b          NaN          n       NaN        NaN        f         f               NaN       l      w\n",
       "25  25     e          3.64         b           g         g                    f               a            d          g         5.35        3.56       NaN            s          n       NaN        NaN        f         f               NaN       d      a\n",
       "26  26     e          3.03         x           s         w                    f               d            d          w         2.72        5.70       NaN          NaN          w       NaN        NaN        f         f               NaN       g      a\n",
       "27  27     e          6.46         x           y         n                    f               e            c          w         4.59       10.76       NaN            y          n       NaN        NaN        f         f               NaN       d      a\n",
       "28  28     e          6.20         x           h         y                    t               x            c          y         7.06       13.55       NaN          NaN          w       NaN        NaN        f         f               NaN       d      u\n",
       "29  29     p          3.69         o         NaN         w                    f               f            f          f         5.01       29.27       NaN            g          w       NaN        NaN        t         f               NaN       p      u\n",
       "30  30     p         11.37         x           e         n                    t               p          NaN          o         7.72       23.92       NaN          NaN          u       NaN        NaN        f         f               NaN       d      a\n",
       "31  31     e          7.80         x         NaN         n                    t               p          NaN          g        10.64       23.05       NaN            y          w       NaN        NaN        f         f               NaN       d      u\n",
       "32  32     p          8.69         o           e         r                    f             NaN            c          o         1.51       14.09       NaN          NaN          y       NaN        NaN        f         f               NaN       d      u\n",
       "33  33     p          5.06         s           d         o                    f               d            c          y         3.19        5.85       NaN          NaN          y       NaN        NaN        f         f               NaN       d      u\n",
       "34  34     e          5.81         s           l         n                    f               f            f          f         6.35       23.10       NaN          NaN          n       NaN        NaN        f         f               NaN       d      u\n",
       "35  35     e          7.76         x           d         n                    t               p          NaN          y         8.29       16.74       NaN          NaN          y       NaN        NaN        f         f               NaN       d      a\n",
       "36  36     p          6.93         f           w         n                    f               x          NaN          w        14.00        7.60         r            g          n       NaN        NaN        f         f               NaN       l      a\n",
       "37  37     p          8.63         s           t         p                    t               d            c          p         7.21       12.69       NaN          NaN          p       NaN        NaN        f         f               NaN       d      a\n",
       "38  38     e          4.31         f           y         g                    f               s          NaN          g         5.96        8.04       NaN          NaN          w       NaN        NaN        f         f               NaN       d      a\n",
       "39  39     p          7.10         x           w         p                    f               s            c          p         4.96        7.01       NaN          NaN          p       NaN        NaN        f         f               NaN       d      w\n",
       "40  40     e          7.97         f           s         k                    f               a            c          w         4.47       14.93       NaN          NaN          w       NaN        NaN        f         f               NaN       d      a\n",
       "41  41     p          3.33         x           t         n                    f               s            c          n         5.57        7.98       NaN          NaN          w       NaN          n        t         z               NaN       d      u\n",
       "42  42     p          1.26         x           s         y                    f               f            f          f         4.64        5.82       NaN          NaN          y       NaN        NaN        f         f               NaN       d      a\n",
       "43  43     e          8.05         s           t         p                    t               d            c          o         6.78       13.64       NaN          NaN          w       NaN        NaN        f         f               NaN       d      a\n",
       "44  44     p          7.21         f           t         y                    f               x            c          y         5.55       15.39       NaN          NaN          y       NaN        NaN        f         f               NaN       d      a\n",
       "45  45     p          4.40         f         NaN         u                    f               a          NaN          w         4.43        7.30       NaN          NaN          y       NaN        NaN        f         f               NaN       d      u\n",
       "46  46     e          6.99         s           d         o                    f               d            d          b         5.70       12.40       NaN          NaN          w       NaN        NaN        f         f               NaN       g      w\n",
       "47  47     p          4.37         b           s         y                    f             NaN            c          k         9.39        8.22       NaN          NaN          y         u          w        t         z                 k       d      w\n",
       "48  48     e          5.02         x           h         o                    f               a            d          w         5.56        4.60       NaN            s          n       NaN        NaN        f         f               NaN       d      s\n",
       "49  49     p          1.87         b         NaN         g                    f               a          NaN          g         5.08        1.89       NaN            s          n       NaN        NaN        f         f               NaN       d      s"
      ]
     },
     "execution_count": 5,
     "metadata": {},
     "output_type": "execute_result"
    }
   ],
   "source": [
    "train_data.head(50)"
   ]
  },
  {
   "cell_type": "code",
   "execution_count": 6,
   "metadata": {},
   "outputs": [
    {
     "name": "stdout",
     "output_type": "stream",
     "text": [
      "<class 'pandas.core.frame.DataFrame'>\n",
      "RangeIndex: 3116945 entries, 0 to 3116944\n",
      "Data columns (total 22 columns):\n",
      " #   Column                Dtype  \n",
      "---  ------                -----  \n",
      " 0   id                    int64  \n",
      " 1   class                 object \n",
      " 2   cap-diameter          float64\n",
      " 3   cap-shape             object \n",
      " 4   cap-surface           object \n",
      " 5   cap-color             object \n",
      " 6   does-bruise-or-bleed  object \n",
      " 7   gill-attachment       object \n",
      " 8   gill-spacing          object \n",
      " 9   gill-color            object \n",
      " 10  stem-height           float64\n",
      " 11  stem-width            float64\n",
      " 12  stem-root             object \n",
      " 13  stem-surface          object \n",
      " 14  stem-color            object \n",
      " 15  veil-type             object \n",
      " 16  veil-color            object \n",
      " 17  has-ring              object \n",
      " 18  ring-type             object \n",
      " 19  spore-print-color     object \n",
      " 20  habitat               object \n",
      " 21  season                object \n",
      "dtypes: float64(3), int64(1), object(18)\n",
      "memory usage: 523.2+ MB\n"
     ]
    }
   ],
   "source": [
    "train_data.info()"
   ]
  },
  {
   "cell_type": "code",
   "execution_count": 7,
   "metadata": {},
   "outputs": [
    {
     "data": {
      "text/plain": [
       "id                            0\n",
       "class                         0\n",
       "cap-diameter                  4\n",
       "cap-shape                    40\n",
       "cap-surface              671023\n",
       "cap-color                    12\n",
       "does-bruise-or-bleed          8\n",
       "gill-attachment          523936\n",
       "gill-spacing            1258435\n",
       "gill-color                   57\n",
       "stem-height                   0\n",
       "stem-width                    0\n",
       "stem-root               2757023\n",
       "stem-surface            1980861\n",
       "stem-color                   38\n",
       "veil-type               2957493\n",
       "veil-color              2740947\n",
       "has-ring                     24\n",
       "ring-type                128880\n",
       "spore-print-color       2849682\n",
       "habitat                      45\n",
       "season                        0\n",
       "dtype: int64"
      ]
     },
     "execution_count": 7,
     "metadata": {},
     "output_type": "execute_result"
    }
   ],
   "source": [
    "train_data.isna().sum()"
   ]
  },
  {
   "cell_type": "code",
   "execution_count": 8,
   "metadata": {},
   "outputs": [
    {
     "name": "stdout",
     "output_type": "stream",
     "text": [
      "== class ==\n",
      "['e' 'p']\n",
      "== cap-diameter ==\n",
      "[ 8.8   4.51  6.94 ... 38.11 55.63 54.07]\n",
      "== cap-shape ==\n",
      "['f' 'x' 'p' 'b' 'o' 'c' 's' 'd' 'e' 'n' nan 'w' 'k' 'l' '19.29' '5 f' 't'\n",
      " 'g' 'z' 'a' '2.85' '7 x' 'r' 'u' '3.55' 'is s' 'y' '4.22' '3.6' '21.56'\n",
      " 'i' '6 x' '24.16' '8' 'm' 'ring-type' '10.13' 'is p' '7.43' 'h' '0.82'\n",
      " '10.46' '2.77' '2.94' '12.62' '5.15' '19.04' '4.97' '49.21' 'b f' '9.13'\n",
      " '1.66' '3.37' '7.21' '3.25' '11.12' '3 x' '4.3' '7.41' '6.21' '8.29'\n",
      " '54.78' '20.25' '3.52' '3.04' '2.63' '3.91' '6.44' '8.3' '7.6' '17.44'\n",
      " '4.33' '2.82' '6.53' '19.06']\n",
      "== cap-surface ==\n",
      "['s' 'h' 'y' 'l' 't' 'e' 'g' nan 'd' 'i' 'w' 'k' '15.94' 'f' 'n' 'r' 'o'\n",
      " 'a' 'u' 'z' '2.7' 'does l' '5.07' 'p' 'b' 'm' 'cap-diameter' '1.43' 'x'\n",
      " '7.14' 'c' 'is h' 'does t' '0.85' '6.57' '12.79' '6.45' '4.66' '23.18'\n",
      " '3.06' '16.39' '4.21' 'veil-color' '11.78' '8.1' 'has-ring' 'does h'\n",
      " '1.42' 'class' 'has h' 'does None' '10.83' 'season' '8.96' '14.04' '5.73'\n",
      " 'is None' '24.38' '2.81' '0.88' '2.11' '2.79' 'ring-type'\n",
      " 'does-bruise-or-bleed' '4.93' 'spore-print-color' 'spore-color' '2.92'\n",
      " '2.51' '7.99' 'is y' '3.64' '3.33' '41.91' '12.2' '8.01' '9.22' '1.14'\n",
      " '6.49' '10.34' '10.1' '1.08' 'is k' '0.87']\n",
      "== cap-color ==\n",
      "['u' 'o' 'b' 'g' 'w' 'n' 'e' 'y' 'r' 'p' 'k' 'l' 'i' 'h' 'd' 's' 'a' 'f'\n",
      " '2.05' 'season' 'c' 'x' '13' '7.72' 'm' 'z' '6.76' '7.15' 't' 'ring-type'\n",
      " nan 'class' '12.89' '8.83' '24.75' '22.38' '1.51' '10.1' '17.94' '3.57'\n",
      " 'does n' '4.89' '6.2' '21.53' '6.41' '4.98' '3.95' 'does-bruise-or-bleed'\n",
      " '6.59' '5.25' 'veil-color' '6.9' '5.41' '11.13' '3.11' '2.57' '17.93'\n",
      " '2.7' '8.57' '11.92' '3.08' '2.82' '4.24' '17.19' '3.34' '7' '2.9' '6.36'\n",
      " '5.91' '10.56' '26.89' '4. n' '20.62' 'stem-surface' '20.02' '20' '25.98'\n",
      " '8.67' '9.02']\n",
      "== does-bruise-or-bleed ==\n",
      "['f' 't' 'd' 'has-ring' 'w' 'o' 'b' 'x' 'p' nan 'g' 'y' 'r' 'a' 'l' 'i'\n",
      " 'c' 'n' 'z' 's' 'k' 'h' '3.43' 'e' '4.42' '2.9' 'u']\n",
      "== gill-attachment ==\n",
      "['a' 'x' 's' 'd' 'e' nan 'f' 'p' 'l' 'm' 'b' '32.54' 'n' 'g' 'i' 'u'\n",
      " 'does-bruise-or-bleed' 't' 'o' 'c' 'w' '4.64' 'k' 'r' '4.77' 'h' 'p p'\n",
      " '7.92' 'z' 'season' 'y' '8.79' 'does None' 'has f' 'ring-type' '16.33'\n",
      " '10.85' '20.07' '2.82' '7.86' '3.91' 'does' '10.23' '6.74' '0.92' '3.45'\n",
      " '1' 'is a' '3.71' '50.44' '11.62' 'has d' '1.32' '8.47' '6.11' '2.41'\n",
      " '2.54' '6.32' '19.65' '15.49' '4.01' '8.37' 'does f' '28.7' '13.15'\n",
      " '1.37' '28.15' '7.09' '9.88' '2.67' '18.21' '1.48' '5.93' '1.51' '16.27'\n",
      " '11.26' '2.79' 'is f' '13.94']\n",
      "== gill-spacing ==\n",
      "['c' nan 'd' 'f' 'x' 'b' 'a' '3.61' '2.69' 'k' '4.8' 'e' 'y' 'class' 's'\n",
      " '9.01' 'p' '3.92' '5.22' '6.67' '4.04' 't' '0.73' 'i' '3.57' '24.38' 'w'\n",
      " 'h' 'cap-surface' 'l' '1' '12.27' '5.42' 'r' '1.6' 'n' 'g' '0' '3.81'\n",
      " '4.09' '1.36' '3.24' '5.55' '5.7' '3.62' 'does f' '6.4' '1.88' '55.13']\n",
      "== gill-color ==\n",
      "['w' 'n' 'g' 'k' 'y' 'f' 'p' 'o' 'b' 'u' 'e' 'r' 'd' 't' '3.45' 'z' '5'\n",
      " '3.39' 'season' 'h' 'x' 's' '4' 'class' 'c' 'm' 'spacing' '0.92' nan\n",
      " '18.12' 'l' 'does w' 'a' '7.59' '8.06' '6.19' 'has-ring' '4.49' '9.46'\n",
      " '5.01' 'ring-type' '3.4' 'i' '17' '10.07' 'stem-root' '20.6'\n",
      " 'spore-print-color' '18.03' 'does-bruise-or-bleed' '8.83' 'habitat'\n",
      " '10.21' '4.64' '6.4' 'is y' 'e y' '1.91' 'does n' '16.41' '6.41'\n",
      " 'veil-type' '20.44' '8.37']\n",
      "== stem-height ==\n",
      "[ 4.51  4.79  6.85 ... 26.09 47.33 26.53]\n",
      "== stem-width ==\n",
      "[15.39  6.48  9.93 ... 66.91 79.92 53.44]\n",
      "== stem-root ==\n",
      "[nan 'b' 'c' 'r' 's' 'f' '5.59' '2.77' '20.01' 'y' 'o' 'k' 'd' 'n' 'w' 'u'\n",
      " 'p' 'x' 'i' '10.87' 'a' '3.63' 't' 'm' 'l' 'h' 'g' '16.88' '15.69' '1.48'\n",
      " '3.23' 'e' '20.0' '18.06' 'z' 'spore-print-color' '3.49' '13.03' '7.15']\n",
      "== stem-surface ==\n",
      "[nan 'y' 's' 't' 'g' 'h' 'k' 'i' 'f' 'l' 'd' 'x' '12.04' 'w' 'a' 'o' 'c'\n",
      " 'n' 'm' 'e' 'p' 'z' '6.58' '4.34' 'b' '3.89' 'r' '25.83' '1.59' '0.0'\n",
      " '5.97' '5.81' 'u' 'season' '10.48' '3.68' '5.56' '4.41' '5.48' '5.51'\n",
      " 'class' 'has-ring' '13.1' '17.46' '5.35' '7.23' 'does None' '1.03'\n",
      " 'does s' '7.45' 'has h' 'does-bruise-or-bleed' '1.94' '49.46' '19.35'\n",
      " '2.68' '4.74' 'spore-print-color' '10.93' '24.12' '13.94']\n",
      "== stem-color ==\n",
      "['w' 'o' 'n' 'y' 'e' 'u' 'p' 'f' 'g' 'r' 'k' 'l' 'b' '3.13' 't' 'z' 'a'\n",
      " 'h' 'd' nan 's' '7.33' 'is n' 'i' 'c' 'x' 'e n' '1.75' 'm' '33.52'\n",
      " 'ring-type' '2.78' 'spore-print-color' '23.59' '8.32' 'is w' '26.4'\n",
      " '4.75' '7.84' 'class' '2.75' '8.49' '4.49' '1.41' '17.45' '3.53' '12.92'\n",
      " '3.98' '20.07' '7.7' '22.6' '6.31' '6.09' '3.56' '3.37' '4.62' '2.54'\n",
      " '39.51' '18.06' '4.33']\n",
      "== veil-type ==\n",
      "[nan 'u' 'd' 'a' 'h' '21.11' 'g' 'c' 'e' 'y' 'i' 'f' 'is None' 't' 'w' 'p'\n",
      " 'b' 's' 'k' 'r' 'l' 'n' '5.94']\n",
      "== veil-color ==\n",
      "[nan 'n' 'w' 'k' 'y' 'e' 'u' 'p' 'd' 'g' 'r' 'h' 's' '8.25' 't' 'c' 'o'\n",
      " 'i' '2.49' 'f' 'a' 'b' 'l' 'z' '3.32']\n",
      "== has-ring ==\n",
      "['f' 't' 'h' 'r' 'y' 'c' 'e' 'g' 'l' 's' nan 'p' 'x' 'k' 'z' 'f has-ring'\n",
      " 'd' 'o' 'n' 'm' 'i' '10.3' 'w' 'a']\n",
      "== ring-type ==\n",
      "['f' 'z' 'e' nan 'p' 'l' 'g' 'r' 'm' 'y' 'h' 'o' 't' 'ring-type' 'a' 'd'\n",
      " 's' 'x' '4' 'b' '15' 'u' 'n' 'w' 'does f' '3.12' 'i' 'season' 'k' 'c'\n",
      " 'does-bruise-or-bleed' '11' '23.6' '1' '14' '2' 'spore-print-color'\n",
      " 'class' 'sp' '2.87' '8.25']\n",
      "== spore-print-color ==\n",
      "[nan 'k' 'w' 'p' 'n' 'r' 'u' 'g' 't' 'f' 'd' 'l' 'y' 'a' 's' '2.49' 'e'\n",
      " 'o' 'c' 'b' '10 None' 'h' 'x' '9 None' 'i' 'm' 'veil-color' 'class'\n",
      " '2.62' 'season' '9.55' '6.36' '4.58']\n",
      "== habitat ==\n",
      "['d' 'l' 'g' 'h' 'p' 'm' 'u' 'w' 'y' nan 'n' 'a' 's' 'k' 'habitat' 'z'\n",
      " '8.09' '17.1' 'b' 't' 'c' '9.28' 'ring-type' 'e' 'r'\n",
      " 'does-bruise-or-bleed' 'f' 'is w' 'o' '2.94' 'x' '4' 'is h' '5.56'\n",
      " 'class' 'i' '10.07' '7.31' '5.62' 'spore-print-color' 'cap-diameter'\n",
      " '3.11' '16.46' '7.37' 'veil-type' '17.38' '1.66' '6.63' '18.35' '6.75'\n",
      " '2.44' '3.68' '2.25']\n",
      "== season ==\n",
      "['a' 'w' 'u' 's']\n"
     ]
    }
   ],
   "source": [
    "for column in train_data.columns[1:]:\n",
    "    print(f\"== {column} ==\")\n",
    "    print(f\"{train_data[column].unique()}\")"
   ]
  },
  {
   "cell_type": "code",
   "execution_count": 9,
   "metadata": {},
   "outputs": [],
   "source": [
    "test_data = pd.read_csv(DATA / \"test.csv\")"
   ]
  },
  {
   "cell_type": "code",
   "execution_count": 10,
   "metadata": {},
   "outputs": [
    {
     "name": "stdout",
     "output_type": "stream",
     "text": [
      "<class 'pandas.core.frame.DataFrame'>\n",
      "RangeIndex: 2077964 entries, 0 to 2077963\n",
      "Data columns (total 21 columns):\n",
      " #   Column                Dtype  \n",
      "---  ------                -----  \n",
      " 0   id                    int64  \n",
      " 1   cap-diameter          float64\n",
      " 2   cap-shape             object \n",
      " 3   cap-surface           object \n",
      " 4   cap-color             object \n",
      " 5   does-bruise-or-bleed  object \n",
      " 6   gill-attachment       object \n",
      " 7   gill-spacing          object \n",
      " 8   gill-color            object \n",
      " 9   stem-height           float64\n",
      " 10  stem-width            float64\n",
      " 11  stem-root             object \n",
      " 12  stem-surface          object \n",
      " 13  stem-color            object \n",
      " 14  veil-type             object \n",
      " 15  veil-color            object \n",
      " 16  has-ring              object \n",
      " 17  ring-type             object \n",
      " 18  spore-print-color     object \n",
      " 19  habitat               object \n",
      " 20  season                object \n",
      "dtypes: float64(3), int64(1), object(17)\n",
      "memory usage: 332.9+ MB\n"
     ]
    }
   ],
   "source": [
    "test_data.info()"
   ]
  },
  {
   "cell_type": "code",
   "execution_count": 11,
   "metadata": {},
   "outputs": [
    {
     "data": {
      "text/plain": [
       "id                            0\n",
       "cap-diameter                  7\n",
       "cap-shape                    31\n",
       "cap-surface              446904\n",
       "cap-color                    13\n",
       "does-bruise-or-bleed         10\n",
       "gill-attachment          349821\n",
       "gill-spacing             839595\n",
       "gill-color                   49\n",
       "stem-height                   1\n",
       "stem-width                    0\n",
       "stem-root               1838012\n",
       "stem-surface            1321488\n",
       "stem-color                   21\n",
       "veil-type               1971545\n",
       "veil-color              1826124\n",
       "has-ring                     19\n",
       "ring-type                 86195\n",
       "spore-print-color       1899617\n",
       "habitat                      25\n",
       "season                        0\n",
       "dtype: int64"
      ]
     },
     "execution_count": 11,
     "metadata": {},
     "output_type": "execute_result"
    }
   ],
   "source": [
    "test_data.isna().sum()"
   ]
  },
  {
   "cell_type": "code",
   "execution_count": 12,
   "metadata": {},
   "outputs": [
    {
     "name": "stdout",
     "output_type": "stream",
     "text": [
      "== cap-diameter ==\n",
      "[ 8.64  6.9   2.   ... 58.98 39.12 46.19]\n",
      "== cap-shape ==\n",
      "['x' 'o' 'b' 'f' 's' 'p' 'c' 'g' 't' 'i' 'a' 'n' '7.21' 'e' nan 'w' 'd'\n",
      " 'k' 'u' 'y' '3.34' '8.3' 'r' 'l' '3.32' '19.76' 'is f' '0.93' '5 f' 'z'\n",
      " 'p f' 'h' '1.25' 'm' '4.55' 'ring-type' '11.43' '6' '5.59' '4.41' '3.73'\n",
      " '3.47' '6.75' '51.63' '6.52' '9.49' '2.7' '3.15' '5.05' 'cap-diameter'\n",
      " '4.51' '4.86' '0.97' '3.94' '6.47' '3.23' '2.02' '1.53' '8' '6.15'\n",
      " '17.89' '0.74' '4.54']\n",
      "== cap-surface ==\n",
      "[nan 't' 'g' 'h' 'd' 'e' 'y' 'k' 's' 'i' 'l' 'w' 'r' 'f' 'o' 'm' 'a' 'n'\n",
      " 'p' 'b' 'x' 'season' 'u' '6.04' 'z' '10.09' 'spore-print-color' 'c'\n",
      " '2.97' 'class' '7.78' '5.05' '5.92' '5.98' '11.96' '7.96' '9.53' '17.98'\n",
      " 'habitat' '2.47' '20.64' '8.34' 'has-ring' 'does None' '1.95' '16.48'\n",
      " '5.84' '5.93' '12.3' '14.18' '4.87' '15.52' '3.49' '6.58' '12.15' '6.7'\n",
      " '4.91' '0.94' '2.84' '5.1']\n",
      "== cap-color ==\n",
      "['n' 'o' 'y' 'k' 'b' 'w' 'e' 'g' 'p' 'u' 'l' 'r' 'z' 'f' nan 's' 'd' 'i'\n",
      " '10.93' 'ring-type' 'a' 'x' '0.73' 'c' 't' '19.18' 'h' '5.35' 'm' '21.38'\n",
      " 'has-ring' '5.38' 'class' '7.41' '18.49' 'habitat' '5.16' '4.5' '4.75'\n",
      " '17.01' '3.0' '24.74' '12.91' '4.11' '4.92' '10.83' '1.83' '2.51' '6.74'\n",
      " '4.18' '23.96'\n",
      " 'cap---------------------------------------------------------------------------------root'\n",
      " '4.96' '0.91' 'season' '6.18' '4.61' '9.19']\n",
      "== does-bruise-or-bleed ==\n",
      "['t' 'f' 'c' 'k' 'season' 'does t' nan 'x' 's' 'a' 'p' 'n' 'o' 'w' 'b' 'i'\n",
      " 'e' 'r' 'l' 'y' 'm' 'g' 'h']\n",
      "== gill-attachment ==\n",
      "[nan 's' 'p' 'x' 'f' 'a' 'd' 'e' 'c' 't' 'i' 'u' '13.42' 'k' '6.24' 'n'\n",
      " 'w' 'm' 'class' 'z' 'l' '8.33' 'b' 'o' 'g' '2.75' '0.95' 'r' 'season'\n",
      " 'spore-print-color' '1.75' 'y' 'h' '3.7' '23.73' '1.58' '1.32' '12.22'\n",
      " '6.35' '17.77' '1.26' '7.18' '8.21' '2.51' '6.11' '17.11' '10.62' '0.93'\n",
      " '25.92' '4.8' 'e s' '29.82' '1.56' '8.1' '0.88' '11.8' '17.97' '12.99'\n",
      " '23.18' '22.33' '2.86' 'has-ring' '1.83' '0.87' '2.17' '2.82' 'is None']\n",
      "== gill-spacing ==\n",
      "[nan 'c' 'f' 'd' 's' 'e' 'has f' 'a' 'y' 'm' 'w' 'b' 'g' 'p' 'x' '1.61'\n",
      " 'r' '1.46' '2.93' 't' '3.42' 'i' 'k' 'does c' '2.98' '6.52' '13.66'\n",
      " '0.73' 'does None' '1.64' '2.44' '4.92' '1.68' '2.7' '5' '18.89']\n",
      "== gill-color ==\n",
      "['w' 'y' 'n' 'e' 'f' 'b' 'g' 'p' 'o' 'u' 'k' 'r' 'l' 'd' nan 'has-ring'\n",
      " 'season' 't' 's' 'a' 'x' 'c' '8.95' 'i' '6.3' 'h' '1.55' '19.46'\n",
      " 'spacing' 'z' 'class' '5.01' '10.56' '12.87' 'is w'\n",
      " 'does-bruise-or-bleed' '17.26' '18' 'spore-print-color' 'ring-type'\n",
      " 'does f' '7.07' '3.38' 'm' '8.53' '18.05' 'habitat' '2.6' '7.81' 'has g'\n",
      " '9.69' '4' '10.34' '21.87' '9.41' '4.78' '2.83']\n",
      "== stem-height ==\n",
      "[11.13  1.27  6.18 ... 38.4   1.01 25.32]\n",
      "== stem-width ==\n",
      "[17.12 10.75  3.14 ... 55.11 75.42 42.68]\n",
      "== stem-root ==\n",
      "['b' nan 's' 'r' 'c' 'f' 'a' 'p' 'u' 'o' 'x' 't' 'e' 'w' 'g' '1.48' 'k'\n",
      " 'd' 'y' '1.62' '18.29' 'm' 'l' 'h' 'n' 'i' '3.24' '13.46' 'z' '2.82'\n",
      " '3.59' '24.73']\n",
      "== stem-surface ==\n",
      "[nan 's' 'g' 'y' 't' 'i' 'k' 'h' 'f' 'w' 'l' 'r' 'd' 'e' '2.98' 'b' 'c'\n",
      " 'does None' '6.06' 'u' 'o' '2.95' 'season' '6.18' 'p' 'class' '32.6' 'n'\n",
      " 'a' '32.63' 'x' 'm' '9.98' 'cap-diameter' '2.73' '15.25' '5.57' '15.55'\n",
      " '18.35' '3.24' '6.12' '13.09' '4.76' '35.38' 'sp' 'z' '6.51' '8.73'\n",
      " '10.14' '13.01' '15.51' 'does-bruise-or-bleed' '11.53' '4.54' '6.59']\n",
      "== stem-color ==\n",
      "['w' 'n' 'y' 'g' 'o' 'p' 'u' 'e' 'k' 'r' 'l' 'b' 's' 'f' nan 'h' 'x' 'a'\n",
      " '3.05' 't' 'stem-root' 'veil-color' 'm' 'c' 'd' '7.35' '8.04' '6.58'\n",
      " 'veil-type' '17.16' 'season' '2.96' '17.49' 'i' 'z' '10.6' '11.31' '5.5'\n",
      " 'ring-type' '11.0' '8.09' '10.93' '6.67' '6.99' '5.61' '6.93'\n",
      " 'does-bruise-or-bleed' '6.28' '2.84' '7.71' 'spore-print-color' 'class'\n",
      " '3.66' '3.8' 'habitat' '3.02']\n",
      "== veil-type ==\n",
      "['u' nan 'l' 'e' 'y' 'w' 'p' 'g' 'k' 'a' 's' 'c' 'b' 'n' '11' 'm']\n",
      "== veil-color ==\n",
      "['w' nan 'n' 'y' 'e' 'u' 'k' 'i' 'p' 'g' 'r' 'f' 'b' 'h' 's' 't' '4.02'\n",
      " 'o' 'd' 'm' 'l' '9' 'c' 'a']\n",
      "== has-ring ==\n",
      "['t' 'f' nan 'u' 'a' 'c' 'l' 'g' 'i' 'm' 'p' 'r' 'x' 'y' 'd' 'e' 'z' 'k'\n",
      " 'o' 'h' 'b' 's' 'w' '20.96']\n",
      "== ring-type ==\n",
      "['g' 'f' 'z' nan 'r' 'e' 'l' 'p' 'm' 'd' 'n' 'u' 's' 'season' 'k' 't' 'a'\n",
      " 'y' 'o' 'c' 'w' '1' 'x' 'b' 'h' 'ring-type' 'i' '3.48' 'is p' '12.63'\n",
      " '10.36' '8.12' 'does f' '18.5' '9.33' 'spore-print-color' '2']\n",
      "== spore-print-color ==\n",
      "[nan 'p' 'k' 'w' 'n' 'r' 'g' 'u' 'b' 'o' 'f' 't' 'e' 'h' 'veil-color' 'd'\n",
      " 'l' 'i' 's' 'y' 'a' '17.72' '2.52' '8.82' '6.14' 'c' '27.48' 'ring-type'\n",
      " 'z' 'x' '26.48' '3.65' '4' '2.92']\n",
      "== habitat ==\n",
      "['d' 'p' 'u' 'g' 'h' 'm' 'l' 'w' 's' 't' 'habitat' 'k' nan 'n' 'x' 'o' 'e'\n",
      " 'a' 'spore-print-color' 'class' 'c' 'b' 'y' 'r' '4.58' '4.76' 'has-ring'\n",
      " '19.85' 'f' '2.53' '9.01' '2.02' '5.84' '7.01' 'i' '5.92' '5.83' 'z'\n",
      " '1.75' '3.19']\n",
      "== season ==\n",
      "['a' 's' 'u' 'w']\n"
     ]
    }
   ],
   "source": [
    "for column in test_data.columns[1:]:\n",
    "    print(f\"== {column} ==\")\n",
    "    print(f\"{test_data[column].unique()}\")"
   ]
  },
  {
   "cell_type": "code",
   "execution_count": 13,
   "metadata": {},
   "outputs": [],
   "source": [
    "def outlier_to_nan(data, column, value):\n",
    "    data.loc[~data[column].isin(value), column] = np.nan"
   ]
  },
  {
   "cell_type": "markdown",
   "metadata": {},
   "source": [
    "## cap-shape(갓 모양)\n",
    "- 종모양(bell, b)\n",
    "- 원뿔모양(conical, c)\n",
    "- 볼록함(convex, x)\n",
    "- 평평함(flat, f)\n",
    "- 둥글게 돌출(knobbed, k)\n",
    "- 아래로 파임(sunken, s)"
   ]
  },
  {
   "cell_type": "code",
   "execution_count": 14,
   "metadata": {},
   "outputs": [
    {
     "data": {
      "text/plain": [
       "array(['f', 'x', 'p', 'b', 'o', 'c', 's', 'd', 'e', 'n', nan, 'w', 'k',\n",
       "       'l', '19.29', '5 f', 't', 'g', 'z', 'a', '2.85', '7 x', 'r', 'u',\n",
       "       '3.55', 'is s', 'y', '4.22', '3.6', '21.56', 'i', '6 x', '24.16',\n",
       "       '8', 'm', 'ring-type', '10.13', 'is p', '7.43', 'h', '0.82',\n",
       "       '10.46', '2.77', '2.94', '12.62', '5.15', '19.04', '4.97', '49.21',\n",
       "       'b f', '9.13', '1.66', '3.37', '7.21', '3.25', '11.12', '3 x',\n",
       "       '4.3', '7.41', '6.21', '8.29', '54.78', '20.25', '3.52', '3.04',\n",
       "       '2.63', '3.91', '6.44', '8.3', '7.6', '17.44', '4.33', '2.82',\n",
       "       '6.53', '19.06'], dtype=object)"
      ]
     },
     "execution_count": 14,
     "metadata": {},
     "output_type": "execute_result"
    }
   ],
   "source": [
    "train_data[\"cap-shape\"].unique()"
   ]
  },
  {
   "cell_type": "code",
   "execution_count": 15,
   "metadata": {},
   "outputs": [
    {
     "data": {
      "text/plain": [
       "array(['x', 'o', 'b', 'f', 's', 'p', 'c', 'g', 't', 'i', 'a', 'n', '7.21',\n",
       "       'e', nan, 'w', 'd', 'k', 'u', 'y', '3.34', '8.3', 'r', 'l', '3.32',\n",
       "       '19.76', 'is f', '0.93', '5 f', 'z', 'p f', 'h', '1.25', 'm',\n",
       "       '4.55', 'ring-type', '11.43', '6', '5.59', '4.41', '3.73', '3.47',\n",
       "       '6.75', '51.63', '6.52', '9.49', '2.7', '3.15', '5.05',\n",
       "       'cap-diameter', '4.51', '4.86', '0.97', '3.94', '6.47', '3.23',\n",
       "       '2.02', '1.53', '8', '6.15', '17.89', '0.74', '4.54'], dtype=object)"
      ]
     },
     "execution_count": 15,
     "metadata": {},
     "output_type": "execute_result"
    }
   ],
   "source": [
    "test_data[\"cap-shape\"].unique()"
   ]
  },
  {
   "cell_type": "code",
   "execution_count": 16,
   "metadata": {},
   "outputs": [],
   "source": [
    "# 1. 해당 value를 정확하게 가지지 않으면 (is s 허용 x) 모두 결측 처리\n",
    "cap_shape_value = ['b', 'c', 'x', 'f', 'k', 's']\n",
    "\n",
    "outlier_to_nan(train_data, \"cap-shape\", cap_shape_value)\n",
    "outlier_to_nan(test_data, \"cap-shape\", cap_shape_value)\n"
   ]
  },
  {
   "cell_type": "code",
   "execution_count": 17,
   "metadata": {},
   "outputs": [
    {
     "name": "stdout",
     "output_type": "stream",
     "text": [
      "== train data ==\n",
      "cap-shape\n",
      "x    1436026\n",
      "f     676238\n",
      "s     365146\n",
      "b     318646\n",
      "c     104520\n",
      "k         13\n",
      "Name: count, dtype: int64\n",
      "NaN: 216356\n"
     ]
    }
   ],
   "source": [
    "print(\"== train data ==\")\n",
    "print(train_data[\"cap-shape\"].value_counts())\n",
    "print(f'NaN: {train_data[\"cap-shape\"].isna().sum()}')"
   ]
  },
  {
   "cell_type": "code",
   "execution_count": 18,
   "metadata": {},
   "outputs": [
    {
     "name": "stdout",
     "output_type": "stream",
     "text": [
      "== test data ==\n",
      "cap-shape\n",
      "x    957949\n",
      "f    452360\n",
      "s    242698\n",
      "b    211879\n",
      "c     69436\n",
      "k        17\n",
      "Name: count, dtype: int64\n",
      "NaN: 143625\n"
     ]
    }
   ],
   "source": [
    "print(\"== test data ==\")\n",
    "print(test_data[\"cap-shape\"].value_counts())\n",
    "print(f'NaN: {test_data[\"cap-shape\"].isna().sum()}')"
   ]
  },
  {
   "cell_type": "markdown",
   "metadata": {},
   "source": [
    "## cap-surface\n",
    "- 섬유질(fibrous, f), \n",
    "- 홈이 있는(grooves, g), \n",
    "- 비늘이 있는(scaly, y), \n",
    "- 매끄러운(smooth, s)"
   ]
  },
  {
   "cell_type": "code",
   "execution_count": 19,
   "metadata": {},
   "outputs": [
    {
     "data": {
      "text/plain": [
       "array(['s', 'h', 'y', 'l', 't', 'e', 'g', nan, 'd', 'i', 'w', 'k',\n",
       "       '15.94', 'f', 'n', 'r', 'o', 'a', 'u', 'z', '2.7', 'does l',\n",
       "       '5.07', 'p', 'b', 'm', 'cap-diameter', '1.43', 'x', '7.14', 'c',\n",
       "       'is h', 'does t', '0.85', '6.57', '12.79', '6.45', '4.66', '23.18',\n",
       "       '3.06', '16.39', '4.21', 'veil-color', '11.78', '8.1', 'has-ring',\n",
       "       'does h', '1.42', 'class', 'has h', 'does None', '10.83', 'season',\n",
       "       '8.96', '14.04', '5.73', 'is None', '24.38', '2.81', '0.88',\n",
       "       '2.11', '2.79', 'ring-type', 'does-bruise-or-bleed', '4.93',\n",
       "       'spore-print-color', 'spore-color', '2.92', '2.51', '7.99', 'is y',\n",
       "       '3.64', '3.33', '41.91', '12.2', '8.01', '9.22', '1.14', '6.49',\n",
       "       '10.34', '10.1', '1.08', 'is k', '0.87'], dtype=object)"
      ]
     },
     "execution_count": 19,
     "metadata": {},
     "output_type": "execute_result"
    }
   ],
   "source": [
    "train_data[\"cap-surface\"].unique()"
   ]
  },
  {
   "cell_type": "code",
   "execution_count": 20,
   "metadata": {},
   "outputs": [
    {
     "data": {
      "text/plain": [
       "array([nan, 't', 'g', 'h', 'd', 'e', 'y', 'k', 's', 'i', 'l', 'w', 'r',\n",
       "       'f', 'o', 'm', 'a', 'n', 'p', 'b', 'x', 'season', 'u', '6.04', 'z',\n",
       "       '10.09', 'spore-print-color', 'c', '2.97', 'class', '7.78', '5.05',\n",
       "       '5.92', '5.98', '11.96', '7.96', '9.53', '17.98', 'habitat',\n",
       "       '2.47', '20.64', '8.34', 'has-ring', 'does None', '1.95', '16.48',\n",
       "       '5.84', '5.93', '12.3', '14.18', '4.87', '15.52', '3.49', '6.58',\n",
       "       '12.15', '6.7', '4.91', '0.94', '2.84', '5.1'], dtype=object)"
      ]
     },
     "execution_count": 20,
     "metadata": {},
     "output_type": "execute_result"
    }
   ],
   "source": [
    "test_data[\"cap-surface\"].unique()"
   ]
  },
  {
   "cell_type": "code",
   "execution_count": 21,
   "metadata": {},
   "outputs": [],
   "source": [
    "cap_surface_value = ['f', 'g', 'y', 's']\n",
    "\n",
    "outlier_to_nan(train_data, \"cap-surface\", cap_surface_value)\n",
    "outlier_to_nan(test_data, \"cap-surface\", cap_surface_value)"
   ]
  },
  {
   "cell_type": "code",
   "execution_count": 22,
   "metadata": {},
   "outputs": [
    {
     "name": "stdout",
     "output_type": "stream",
     "text": [
      "== train data ==\n",
      "cap-surface\n",
      "s    384970\n",
      "y    327826\n",
      "g    263729\n",
      "f        75\n",
      "Name: count, dtype: int64\n",
      "NaN: 2140345\n",
      "== test data ==\n",
      "cap-surface\n",
      "s    257190\n",
      "y    218336\n",
      "g    176140\n",
      "f        54\n",
      "Name: count, dtype: int64\n",
      "NaN: 1426244\n"
     ]
    }
   ],
   "source": [
    "print(\"== train data ==\")\n",
    "print(train_data[\"cap-surface\"].value_counts())\n",
    "print(f'NaN: {train_data[\"cap-surface\"].isna().sum()}')\n",
    "\n",
    "print(\"== test data ==\")\n",
    "print(test_data[\"cap-surface\"].value_counts())\n",
    "print(f'NaN: {test_data[\"cap-surface\"].isna().sum()}')"
   ]
  },
  {
   "cell_type": "markdown",
   "metadata": {},
   "source": [
    "## cap-color\n",
    "- 갈색(brown, n), \n",
    "- 담황색(buff, b), \n",
    "- 시나몬색(cinnamon, c), \n",
    "- 회색(gray, g), \n",
    "- 초록색(green, r), \n",
    "- 핑크색(pink, p), \n",
    "- 보라색(purple, u), \n",
    "- 빨강색(red, e), \n",
    "- 흰색(white, w), \n",
    "- 노랑색(yellow, y)"
   ]
  },
  {
   "cell_type": "code",
   "execution_count": 23,
   "metadata": {},
   "outputs": [
    {
     "data": {
      "text/plain": [
       "array(['u', 'o', 'b', 'g', 'w', 'n', 'e', 'y', 'r', 'p', 'k', 'l', 'i',\n",
       "       'h', 'd', 's', 'a', 'f', '2.05', 'season', 'c', 'x', '13', '7.72',\n",
       "       'm', 'z', '6.76', '7.15', 't', 'ring-type', nan, 'class', '12.89',\n",
       "       '8.83', '24.75', '22.38', '1.51', '10.1', '17.94', '3.57',\n",
       "       'does n', '4.89', '6.2', '21.53', '6.41', '4.98', '3.95',\n",
       "       'does-bruise-or-bleed', '6.59', '5.25', 'veil-color', '6.9',\n",
       "       '5.41', '11.13', '3.11', '2.57', '17.93', '2.7', '8.57', '11.92',\n",
       "       '3.08', '2.82', '4.24', '17.19', '3.34', '7', '2.9', '6.36',\n",
       "       '5.91', '10.56', '26.89', '4. n', '20.62', 'stem-surface', '20.02',\n",
       "       '20', '25.98', '8.67', '9.02'], dtype=object)"
      ]
     },
     "execution_count": 23,
     "metadata": {},
     "output_type": "execute_result"
    }
   ],
   "source": [
    "train_data[\"cap-color\"].unique()"
   ]
  },
  {
   "cell_type": "code",
   "execution_count": 24,
   "metadata": {},
   "outputs": [
    {
     "data": {
      "text/plain": [
       "array(['n', 'o', 'y', 'k', 'b', 'w', 'e', 'g', 'p', 'u', 'l', 'r', 'z',\n",
       "       'f', nan, 's', 'd', 'i', '10.93', 'ring-type', 'a', 'x', '0.73',\n",
       "       'c', 't', '19.18', 'h', '5.35', 'm', '21.38', 'has-ring', '5.38',\n",
       "       'class', '7.41', '18.49', 'habitat', '5.16', '4.5', '4.75',\n",
       "       '17.01', '3.0', '24.74', '12.91', '4.11', '4.92', '10.83', '1.83',\n",
       "       '2.51', '6.74', '4.18', '23.96',\n",
       "       'cap---------------------------------------------------------------------------------root',\n",
       "       '4.96', '0.91', 'season', '6.18', '4.61', '9.19'], dtype=object)"
      ]
     },
     "execution_count": 24,
     "metadata": {},
     "output_type": "execute_result"
    }
   ],
   "source": [
    "test_data[\"cap-color\"].unique()"
   ]
  },
  {
   "cell_type": "code",
   "execution_count": 25,
   "metadata": {},
   "outputs": [],
   "source": [
    "cap_color_value = ['n', 'b', 'c', 'g', 'r', 'p', 'u', 'e', 'w', 'y']\n",
    "\n",
    "outlier_to_nan(train_data, \"cap-color\", cap_color_value)\n",
    "outlier_to_nan(test_data, \"cap-color\", cap_color_value)"
   ]
  },
  {
   "cell_type": "code",
   "execution_count": 26,
   "metadata": {},
   "outputs": [
    {
     "name": "stdout",
     "output_type": "stream",
     "text": [
      "== train data ==\n",
      "cap-color\n",
      "n    1359542\n",
      "y     386627\n",
      "w     379442\n",
      "g     210825\n",
      "e     197290\n",
      "p      91838\n",
      "r      78236\n",
      "u      73172\n",
      "b      61313\n",
      "c         14\n",
      "Name: count, dtype: int64\n",
      "NaN: 278646\n",
      "== test data ==\n",
      "cap-color\n",
      "n    904307\n",
      "y    259062\n",
      "w    253844\n",
      "g    140681\n",
      "e    131524\n",
      "p     61186\n",
      "r     51784\n",
      "u     48865\n",
      "b     40790\n",
      "c        12\n",
      "Name: count, dtype: int64\n",
      "NaN: 185909\n"
     ]
    }
   ],
   "source": [
    "print(\"== train data ==\")\n",
    "print(train_data[\"cap-color\"].value_counts())\n",
    "print(f'NaN: {train_data[\"cap-color\"].isna().sum()}')\n",
    "\n",
    "print(\"== test data ==\")\n",
    "print(test_data[\"cap-color\"].value_counts())\n",
    "print(f'NaN: {test_data[\"cap-color\"].isna().sum()}')"
   ]
  },
  {
   "cell_type": "markdown",
   "metadata": {},
   "source": [
    "## does-bruise-or-bleed\n",
    "- 멍이나 피가 남(true, t), \n",
    "- 멍이나 피가 나지않음(false, f)"
   ]
  },
  {
   "cell_type": "code",
   "execution_count": 27,
   "metadata": {},
   "outputs": [
    {
     "data": {
      "text/plain": [
       "array(['f', 't', 'd', 'has-ring', 'w', 'o', 'b', 'x', 'p', nan, 'g', 'y',\n",
       "       'r', 'a', 'l', 'i', 'c', 'n', 'z', 's', 'k', 'h', '3.43', 'e',\n",
       "       '4.42', '2.9', 'u'], dtype=object)"
      ]
     },
     "execution_count": 27,
     "metadata": {},
     "output_type": "execute_result"
    }
   ],
   "source": [
    "train_data[\"does-bruise-or-bleed\"].unique()"
   ]
  },
  {
   "cell_type": "code",
   "execution_count": 28,
   "metadata": {},
   "outputs": [
    {
     "data": {
      "text/plain": [
       "array(['t', 'f', 'c', 'k', 'season', 'does t', nan, 'x', 's', 'a', 'p',\n",
       "       'n', 'o', 'w', 'b', 'i', 'e', 'r', 'l', 'y', 'm', 'g', 'h'],\n",
       "      dtype=object)"
      ]
     },
     "execution_count": 28,
     "metadata": {},
     "output_type": "execute_result"
    }
   ],
   "source": [
    "test_data[\"does-bruise-or-bleed\"].unique()"
   ]
  },
  {
   "cell_type": "code",
   "execution_count": 29,
   "metadata": {},
   "outputs": [],
   "source": [
    "bruise_or_bleed_value = ['t', 'f']\n",
    "\n",
    "outlier_to_nan(train_data, \"does-bruise-or-bleed\", bruise_or_bleed_value)\n",
    "outlier_to_nan(test_data, \"does-bruise-or-bleed\", bruise_or_bleed_value)"
   ]
  },
  {
   "cell_type": "code",
   "execution_count": 31,
   "metadata": {},
   "outputs": [
    {
     "name": "stdout",
     "output_type": "stream",
     "text": [
      "== train data ==\n",
      "does-bruise-or-bleed\n",
      "f    2569743\n",
      "t     547085\n",
      "Name: count, dtype: int64\n",
      "NaN: 117\n",
      "== test data ==\n",
      "does-bruise-or-bleed\n",
      "f    1713662\n",
      "t     364227\n",
      "Name: count, dtype: int64\n",
      "NaN: 75\n"
     ]
    }
   ],
   "source": [
    "print(\"== train data ==\")\n",
    "print(train_data[\"does-bruise-or-bleed\"].value_counts())\n",
    "print(f'NaN: {train_data[\"does-bruise-or-bleed\"].isna().sum()}')\n",
    "\n",
    "print(\"== test data ==\")\n",
    "print(test_data[\"does-bruise-or-bleed\"].value_counts())\n",
    "print(f'NaN: {test_data[\"does-bruise-or-bleed\"].isna().sum()}')"
   ]
  },
  {
   "cell_type": "markdown",
   "metadata": {},
   "source": [
    "## gill-attachment\n",
    "- attached(붙음)=a, \n",
    "- descending(내림)=d, \n",
    "- free(자유)=f, \n",
    "- notched(톱니)=n"
   ]
  },
  {
   "cell_type": "code",
   "execution_count": 32,
   "metadata": {},
   "outputs": [
    {
     "data": {
      "text/plain": [
       "array(['a', 'x', 's', 'd', 'e', nan, 'f', 'p', 'l', 'm', 'b', '32.54',\n",
       "       'n', 'g', 'i', 'u', 'does-bruise-or-bleed', 't', 'o', 'c', 'w',\n",
       "       '4.64', 'k', 'r', '4.77', 'h', 'p p', '7.92', 'z', 'season', 'y',\n",
       "       '8.79', 'does None', 'has f', 'ring-type', '16.33', '10.85',\n",
       "       '20.07', '2.82', '7.86', '3.91', 'does', '10.23', '6.74', '0.92',\n",
       "       '3.45', '1', 'is a', '3.71', '50.44', '11.62', 'has d', '1.32',\n",
       "       '8.47', '6.11', '2.41', '2.54', '6.32', '19.65', '15.49', '4.01',\n",
       "       '8.37', 'does f', '28.7', '13.15', '1.37', '28.15', '7.09', '9.88',\n",
       "       '2.67', '18.21', '1.48', '5.93', '1.51', '16.27', '11.26', '2.79',\n",
       "       'is f', '13.94'], dtype=object)"
      ]
     },
     "execution_count": 32,
     "metadata": {},
     "output_type": "execute_result"
    }
   ],
   "source": [
    "train_data[\"gill-attachment\"].unique()"
   ]
  },
  {
   "cell_type": "code",
   "execution_count": 33,
   "metadata": {},
   "outputs": [
    {
     "data": {
      "text/plain": [
       "array([nan, 's', 'p', 'x', 'f', 'a', 'd', 'e', 'c', 't', 'i', 'u',\n",
       "       '13.42', 'k', '6.24', 'n', 'w', 'm', 'class', 'z', 'l', '8.33',\n",
       "       'b', 'o', 'g', '2.75', '0.95', 'r', 'season', 'spore-print-color',\n",
       "       '1.75', 'y', 'h', '3.7', '23.73', '1.58', '1.32', '12.22', '6.35',\n",
       "       '17.77', '1.26', '7.18', '8.21', '2.51', '6.11', '17.11', '10.62',\n",
       "       '0.93', '25.92', '4.8', 'e s', '29.82', '1.56', '8.1', '0.88',\n",
       "       '11.8', '17.97', '12.99', '23.18', '22.33', '2.86', 'has-ring',\n",
       "       '1.83', '0.87', '2.17', '2.82', 'is None'], dtype=object)"
      ]
     },
     "execution_count": 33,
     "metadata": {},
     "output_type": "execute_result"
    }
   ],
   "source": [
    "test_data[\"gill-attachment\"].unique()"
   ]
  },
  {
   "cell_type": "code",
   "execution_count": 34,
   "metadata": {},
   "outputs": [],
   "source": [
    "gill_attachment_value = ['a', 'd', 'f', 'n']\n",
    "\n",
    "outlier_to_nan(train_data, \"gill-attachment\", gill_attachment_value)\n",
    "outlier_to_nan(test_data, \"gill-attachment\", gill_attachment_value)"
   ]
  },
  {
   "cell_type": "code",
   "execution_count": 35,
   "metadata": {},
   "outputs": [
    {
     "name": "stdout",
     "output_type": "stream",
     "text": [
      "== train data ==\n",
      "gill-attachment\n",
      "a    646034\n",
      "d    589236\n",
      "f    119953\n",
      "n        20\n",
      "Name: count, dtype: int64\n",
      "NaN: 1761702\n",
      "== test data ==\n",
      "gill-attachment\n",
      "a    430960\n",
      "d    392584\n",
      "f     79630\n",
      "n        13\n",
      "Name: count, dtype: int64\n",
      "NaN: 1174777\n"
     ]
    }
   ],
   "source": [
    "print(\"== train data ==\")\n",
    "print(train_data[\"gill-attachment\"].value_counts())\n",
    "print(f'NaN: {train_data[\"gill-attachment\"].isna().sum()}')\n",
    "\n",
    "print(\"== test data ==\")\n",
    "print(test_data[\"gill-attachment\"].value_counts())\n",
    "print(f'NaN: {test_data[\"gill-attachment\"].isna().sum()}')"
   ]
  },
  {
   "cell_type": "markdown",
   "metadata": {},
   "source": [
    "## gill-spacing\n",
    "- close(가깝게)=c, \n",
    "- crowded(밀집)=w, \n",
    "- distant(떨어짐)=d"
   ]
  },
  {
   "cell_type": "code",
   "execution_count": 36,
   "metadata": {},
   "outputs": [
    {
     "data": {
      "text/plain": [
       "array(['c', nan, 'd', 'f', 'x', 'b', 'a', '3.61', '2.69', 'k', '4.8', 'e',\n",
       "       'y', 'class', 's', '9.01', 'p', '3.92', '5.22', '6.67', '4.04',\n",
       "       't', '0.73', 'i', '3.57', '24.38', 'w', 'h', 'cap-surface', 'l',\n",
       "       '1', '12.27', '5.42', 'r', '1.6', 'n', 'g', '0', '3.81', '4.09',\n",
       "       '1.36', '3.24', '5.55', '5.7', '3.62', 'does f', '6.4', '1.88',\n",
       "       '55.13'], dtype=object)"
      ]
     },
     "execution_count": 36,
     "metadata": {},
     "output_type": "execute_result"
    }
   ],
   "source": [
    "train_data[\"gill-spacing\"].unique()"
   ]
  },
  {
   "cell_type": "code",
   "execution_count": 37,
   "metadata": {},
   "outputs": [
    {
     "data": {
      "text/plain": [
       "array([nan, 'c', 'f', 'd', 's', 'e', 'has f', 'a', 'y', 'm', 'w', 'b',\n",
       "       'g', 'p', 'x', '1.61', 'r', '1.46', '2.93', 't', '3.42', 'i', 'k',\n",
       "       'does c', '2.98', '6.52', '13.66', '0.73', 'does None', '1.64',\n",
       "       '2.44', '4.92', '1.68', '2.7', '5', '18.89'], dtype=object)"
      ]
     },
     "execution_count": 37,
     "metadata": {},
     "output_type": "execute_result"
    }
   ],
   "source": [
    "test_data[\"gill-spacing\"].unique()"
   ]
  },
  {
   "cell_type": "code",
   "execution_count": 38,
   "metadata": {},
   "outputs": [],
   "source": [
    "gill_spacing_value = ['c', 'w', 'd']\n",
    "\n",
    "outlier_to_nan(train_data, \"gill-spacing\", gill_spacing_value)\n",
    "outlier_to_nan(test_data, \"gill-spacing\", gill_spacing_value)"
   ]
  },
  {
   "cell_type": "code",
   "execution_count": 39,
   "metadata": {},
   "outputs": [
    {
     "name": "stdout",
     "output_type": "stream",
     "text": [
      "== train data ==\n",
      "gill-spacing\n",
      "c    1331054\n",
      "d     407932\n",
      "w          1\n",
      "Name: count, dtype: int64\n",
      "NaN: 1377958\n",
      "== test data ==\n",
      "gill-spacing\n",
      "c    886976\n",
      "d    272085\n",
      "w         4\n",
      "Name: count, dtype: int64\n",
      "NaN: 918899\n"
     ]
    }
   ],
   "source": [
    "print(\"== train data ==\")\n",
    "print(train_data[\"gill-spacing\"].value_counts())\n",
    "print(f'NaN: {train_data[\"gill-spacing\"].isna().sum()}')\n",
    "\n",
    "print(\"== test data ==\")\n",
    "print(test_data[\"gill-spacing\"].value_counts())\n",
    "print(f'NaN: {test_data[\"gill-spacing\"].isna().sum()}')"
   ]
  },
  {
   "cell_type": "markdown",
   "metadata": {},
   "source": [
    "## gill-color\n",
    "- black(검정)=k,\n",
    "- brown(갈색)=n,\n",
    "- buff(담황색)=b,\n",
    "- chocolate(초콜릿색)=h,\n",
    "- gray(회색)=g,\n",
    "- green(녹색)=r,\n",
    "- orange(주황색)=o,\n",
    "- pink(분홍색)=p,\n",
    "- purple(보라색)=u,\n",
    "- red(빨강색)=e,\n",
    "- white(흰색)=w,\n",
    "- yellow(노랑색)=y"
   ]
  },
  {
   "cell_type": "code",
   "execution_count": 40,
   "metadata": {},
   "outputs": [
    {
     "data": {
      "text/plain": [
       "array(['w', 'n', 'g', 'k', 'y', 'f', 'p', 'o', 'b', 'u', 'e', 'r', 'd',\n",
       "       't', '3.45', 'z', '5', '3.39', 'season', 'h', 'x', 's', '4',\n",
       "       'class', 'c', 'm', 'spacing', '0.92', nan, '18.12', 'l', 'does w',\n",
       "       'a', '7.59', '8.06', '6.19', 'has-ring', '4.49', '9.46', '5.01',\n",
       "       'ring-type', '3.4', 'i', '17', '10.07', 'stem-root', '20.6',\n",
       "       'spore-print-color', '18.03', 'does-bruise-or-bleed', '8.83',\n",
       "       'habitat', '10.21', '4.64', '6.4', 'is y', 'e y', '1.91', 'does n',\n",
       "       '16.41', '6.41', 'veil-type', '20.44', '8.37'], dtype=object)"
      ]
     },
     "execution_count": 40,
     "metadata": {},
     "output_type": "execute_result"
    }
   ],
   "source": [
    "train_data[\"gill-color\"].unique()"
   ]
  },
  {
   "cell_type": "code",
   "execution_count": 41,
   "metadata": {},
   "outputs": [
    {
     "data": {
      "text/plain": [
       "array(['w', 'y', 'n', 'e', 'f', 'b', 'g', 'p', 'o', 'u', 'k', 'r', 'l',\n",
       "       'd', nan, 'has-ring', 'season', 't', 's', 'a', 'x', 'c', '8.95',\n",
       "       'i', '6.3', 'h', '1.55', '19.46', 'spacing', 'z', 'class', '5.01',\n",
       "       '10.56', '12.87', 'is w', 'does-bruise-or-bleed', '17.26', '18',\n",
       "       'spore-print-color', 'ring-type', 'does f', '7.07', '3.38', 'm',\n",
       "       '8.53', '18.05', 'habitat', '2.6', '7.81', 'has g', '9.69', '4',\n",
       "       '10.34', '21.87', '9.41', '4.78', '2.83'], dtype=object)"
      ]
     },
     "execution_count": 41,
     "metadata": {},
     "output_type": "execute_result"
    }
   ],
   "source": [
    "test_data[\"gill-color\"].unique()"
   ]
  },
  {
   "cell_type": "code",
   "execution_count": 42,
   "metadata": {},
   "outputs": [],
   "source": [
    "gill_color_value = ['k', 'n', 'b', 'h', 'g', 'r', 'o', 'p', 'u', 'e', 'w', 'y']\n",
    "\n",
    "outlier_to_nan(train_data, \"gill-color\", gill_color_value)\n",
    "outlier_to_nan(test_data, \"gill-color\", gill_color_value)"
   ]
  },
  {
   "cell_type": "code",
   "execution_count": 43,
   "metadata": {},
   "outputs": [
    {
     "name": "stdout",
     "output_type": "stream",
     "text": [
      "== train data ==\n",
      "gill-color\n",
      "w    931538\n",
      "n    543386\n",
      "y    469464\n",
      "p    343626\n",
      "g    212164\n",
      "o    157119\n",
      "k    127970\n",
      "r     62799\n",
      "e     56047\n",
      "b     47247\n",
      "u     45399\n",
      "h        24\n",
      "Name: count, dtype: int64\n",
      "NaN: 120162\n",
      "== test data ==\n",
      "gill-color\n",
      "w    620773\n",
      "n    362169\n",
      "y    313932\n",
      "p    229155\n",
      "g    141519\n",
      "o    105048\n",
      "k     85360\n",
      "r     41499\n",
      "e     37432\n",
      "b     31183\n",
      "u     30084\n",
      "h        13\n",
      "Name: count, dtype: int64\n",
      "NaN: 79797\n"
     ]
    }
   ],
   "source": [
    "print(\"== train data ==\")\n",
    "print(train_data[\"gill-color\"].value_counts())\n",
    "print(f'NaN: {train_data[\"gill-color\"].isna().sum()}')\n",
    "\n",
    "print(\"== test data ==\")\n",
    "print(test_data[\"gill-color\"].value_counts())\n",
    "print(f'NaN: {test_data[\"gill-color\"].isna().sum()}')"
   ]
  },
  {
   "cell_type": "markdown",
   "metadata": {},
   "source": [
    "## stem-root(원본 데이터 stalk-root)\n",
    "- bulbous(둥근형)=b, \n",
    "- club(곤봉형)=c, \n",
    "- cup(컵형)=u, \n",
    "- equal(평형)=e, \n",
    "- rhizomorphs(근형)=z, \n",
    "- rooted(뿌리형)=r"
   ]
  },
  {
   "cell_type": "code",
   "execution_count": 44,
   "metadata": {},
   "outputs": [
    {
     "data": {
      "text/plain": [
       "array([nan, 'b', 'c', 'r', 's', 'f', '5.59', '2.77', '20.01', 'y', 'o',\n",
       "       'k', 'd', 'n', 'w', 'u', 'p', 'x', 'i', '10.87', 'a', '3.63', 't',\n",
       "       'm', 'l', 'h', 'g', '16.88', '15.69', '1.48', '3.23', 'e', '20.0',\n",
       "       '18.06', 'z', 'spore-print-color', '3.49', '13.03', '7.15'],\n",
       "      dtype=object)"
      ]
     },
     "execution_count": 44,
     "metadata": {},
     "output_type": "execute_result"
    }
   ],
   "source": [
    "train_data[\"stem-root\"].unique()"
   ]
  },
  {
   "cell_type": "code",
   "execution_count": 45,
   "metadata": {},
   "outputs": [
    {
     "data": {
      "text/plain": [
       "array(['b', nan, 's', 'r', 'c', 'f', 'a', 'p', 'u', 'o', 'x', 't', 'e',\n",
       "       'w', 'g', '1.48', 'k', 'd', 'y', '1.62', '18.29', 'm', 'l', 'h',\n",
       "       'n', 'i', '3.24', '13.46', 'z', '2.82', '3.59', '24.73'],\n",
       "      dtype=object)"
      ]
     },
     "execution_count": 45,
     "metadata": {},
     "output_type": "execute_result"
    }
   ],
   "source": [
    "test_data[\"stem-root\"].unique()"
   ]
  },
  {
   "cell_type": "code",
   "execution_count": 46,
   "metadata": {},
   "outputs": [],
   "source": [
    "stem_root_value = ['b', 'c', 'u', 'e', 'z', 'r']\n",
    "\n",
    "outlier_to_nan(train_data, \"stem-root\", stem_root_value)\n",
    "outlier_to_nan(test_data, \"stem-root\", stem_root_value)"
   ]
  },
  {
   "cell_type": "code",
   "execution_count": 47,
   "metadata": {},
   "outputs": [
    {
     "name": "stdout",
     "output_type": "stream",
     "text": [
      "== train data ==\n",
      "stem-root\n",
      "b    165801\n",
      "r     47803\n",
      "c     28592\n",
      "u         8\n",
      "e         6\n",
      "z         2\n",
      "Name: count, dtype: int64\n",
      "NaN: 2874733\n",
      "== test data ==\n",
      "stem-root\n",
      "b    110581\n",
      "r     31606\n",
      "c     19025\n",
      "u         8\n",
      "e         7\n",
      "z         2\n",
      "Name: count, dtype: int64\n",
      "NaN: 1916735\n"
     ]
    }
   ],
   "source": [
    "print(\"== train data ==\")\n",
    "print(train_data[\"stem-root\"].value_counts())\n",
    "print(f'NaN: {train_data[\"stem-root\"].isna().sum()}')\n",
    "\n",
    "print(\"== test data ==\")\n",
    "print(test_data[\"stem-root\"].value_counts())\n",
    "print(f'NaN: {test_data[\"stem-root\"].isna().sum()}')"
   ]
  },
  {
   "cell_type": "markdown",
   "metadata": {},
   "source": [
    "## stem-surface (원본데이터 고리 아래의 줄기)\n",
    "\n",
    "- fibrous(섬유질)=f\n",
    "- scaly(비늘형)=y\n",
    "- silky(비단질)=k\n",
    "- smooth(매끈형)=s"
   ]
  },
  {
   "cell_type": "code",
   "execution_count": 48,
   "metadata": {},
   "outputs": [
    {
     "data": {
      "text/plain": [
       "array([nan, 'y', 's', 't', 'g', 'h', 'k', 'i', 'f', 'l', 'd', 'x',\n",
       "       '12.04', 'w', 'a', 'o', 'c', 'n', 'm', 'e', 'p', 'z', '6.58',\n",
       "       '4.34', 'b', '3.89', 'r', '25.83', '1.59', '0.0', '5.97', '5.81',\n",
       "       'u', 'season', '10.48', '3.68', '5.56', '4.41', '5.48', '5.51',\n",
       "       'class', 'has-ring', '13.1', '17.46', '5.35', '7.23', 'does None',\n",
       "       '1.03', 'does s', '7.45', 'has h', 'does-bruise-or-bleed', '1.94',\n",
       "       '49.46', '19.35', '2.68', '4.74', 'spore-print-color', '10.93',\n",
       "       '24.12', '13.94'], dtype=object)"
      ]
     },
     "execution_count": 48,
     "metadata": {},
     "output_type": "execute_result"
    }
   ],
   "source": [
    "train_data[\"stem-surface\"].unique()"
   ]
  },
  {
   "cell_type": "code",
   "execution_count": 49,
   "metadata": {},
   "outputs": [
    {
     "data": {
      "text/plain": [
       "array([nan, 's', 'g', 'y', 't', 'i', 'k', 'h', 'f', 'w', 'l', 'r', 'd',\n",
       "       'e', '2.98', 'b', 'c', 'does None', '6.06', 'u', 'o', '2.95',\n",
       "       'season', '6.18', 'p', 'class', '32.6', 'n', 'a', '32.63', 'x',\n",
       "       'm', '9.98', 'cap-diameter', '2.73', '15.25', '5.57', '15.55',\n",
       "       '18.35', '3.24', '6.12', '13.09', '4.76', '35.38', 'sp', 'z',\n",
       "       '6.51', '8.73', '10.14', '13.01', '15.51', 'does-bruise-or-bleed',\n",
       "       '11.53', '4.54', '6.59'], dtype=object)"
      ]
     },
     "execution_count": 49,
     "metadata": {},
     "output_type": "execute_result"
    }
   ],
   "source": [
    "test_data[\"stem-surface\"].unique()"
   ]
  },
  {
   "cell_type": "code",
   "execution_count": 50,
   "metadata": {},
   "outputs": [],
   "source": [
    "stem_surface_value = ['f', 'y', 'k', 's']\n",
    "\n",
    "outlier_to_nan(train_data, \"stem-surface\", stem_surface_value)\n",
    "outlier_to_nan(test_data, \"stem-surface\", stem_surface_value)"
   ]
  },
  {
   "cell_type": "code",
   "execution_count": 51,
   "metadata": {},
   "outputs": [
    {
     "name": "stdout",
     "output_type": "stream",
     "text": [
      "== train data ==\n",
      "stem-surface\n",
      "s    327610\n",
      "y    255500\n",
      "k     73383\n",
      "f       512\n",
      "Name: count, dtype: int64\n",
      "NaN: 2459940\n",
      "== test data ==\n",
      "stem-surface\n",
      "s    218496\n",
      "y    169462\n",
      "k     49075\n",
      "f       310\n",
      "Name: count, dtype: int64\n",
      "NaN: 1640621\n"
     ]
    }
   ],
   "source": [
    "print(\"== train data ==\")\n",
    "print(train_data[\"stem-surface\"].value_counts())\n",
    "print(f'NaN: {train_data[\"stem-surface\"].isna().sum()}')\n",
    "\n",
    "print(\"== test data ==\")\n",
    "print(test_data[\"stem-surface\"].value_counts())\n",
    "print(f'NaN: {test_data[\"stem-surface\"].isna().sum()}')"
   ]
  },
  {
   "cell_type": "markdown",
   "metadata": {},
   "source": [
    "## stem-color(원본 데이터 고리 아래의 줄기)\n",
    "-  brown(갈색)=n\n",
    "-  buff(담황색)=b\n",
    "-  cinnamon(계피색)=c\n",
    "-  gray(회색)=g\n",
    "-  orange(주황색)=o\n",
    "-  pink(분홍색)=p\n",
    "-  red(빨강색)=e\n",
    "-  white(흰색)=w\n",
    "-  yellow(노랑색)=y"
   ]
  },
  {
   "cell_type": "code",
   "execution_count": 52,
   "metadata": {},
   "outputs": [
    {
     "data": {
      "text/plain": [
       "array(['w', 'o', 'n', 'y', 'e', 'u', 'p', 'f', 'g', 'r', 'k', 'l', 'b',\n",
       "       '3.13', 't', 'z', 'a', 'h', 'd', nan, 's', '7.33', 'is n', 'i',\n",
       "       'c', 'x', 'e n', '1.75', 'm', '33.52', 'ring-type', '2.78',\n",
       "       'spore-print-color', '23.59', '8.32', 'is w', '26.4', '4.75',\n",
       "       '7.84', 'class', '2.75', '8.49', '4.49', '1.41', '17.45', '3.53',\n",
       "       '12.92', '3.98', '20.07', '7.7', '22.6', '6.31', '6.09', '3.56',\n",
       "       '3.37', '4.62', '2.54', '39.51', '18.06', '4.33'], dtype=object)"
      ]
     },
     "execution_count": 52,
     "metadata": {},
     "output_type": "execute_result"
    }
   ],
   "source": [
    "train_data[\"stem-color\"].unique()"
   ]
  },
  {
   "cell_type": "code",
   "execution_count": 53,
   "metadata": {},
   "outputs": [
    {
     "data": {
      "text/plain": [
       "array(['w', 'n', 'y', 'g', 'o', 'p', 'u', 'e', 'k', 'r', 'l', 'b', 's',\n",
       "       'f', nan, 'h', 'x', 'a', '3.05', 't', 'stem-root', 'veil-color',\n",
       "       'm', 'c', 'd', '7.35', '8.04', '6.58', 'veil-type', '17.16',\n",
       "       'season', '2.96', '17.49', 'i', 'z', '10.6', '11.31', '5.5',\n",
       "       'ring-type', '11.0', '8.09', '10.93', '6.67', '6.99', '5.61',\n",
       "       '6.93', 'does-bruise-or-bleed', '6.28', '2.84', '7.71',\n",
       "       'spore-print-color', 'class', '3.66', '3.8', 'habitat', '3.02'],\n",
       "      dtype=object)"
      ]
     },
     "execution_count": 53,
     "metadata": {},
     "output_type": "execute_result"
    }
   ],
   "source": [
    "test_data[\"stem-color\"].unique()"
   ]
  },
  {
   "cell_type": "code",
   "execution_count": 54,
   "metadata": {},
   "outputs": [],
   "source": [
    "stem_color_value = ['n', 'b', 'c', 'g', 'o', 'p', 'e', 'w', 'y']\n",
    "\n",
    "outlier_to_nan(train_data, \"stem-color\", stem_color_value)\n",
    "outlier_to_nan(test_data, \"stem-color\", stem_color_value)"
   ]
  },
  {
   "cell_type": "code",
   "execution_count": 55,
   "metadata": {},
   "outputs": [
    {
     "name": "stdout",
     "output_type": "stream",
     "text": [
      "== train data ==\n",
      "stem-color\n",
      "w    1196637\n",
      "n    1003464\n",
      "y     373971\n",
      "g     132019\n",
      "o     111541\n",
      "e     103373\n",
      "p      54690\n",
      "b       7365\n",
      "c          7\n",
      "Name: count, dtype: int64\n",
      "NaN: 133878\n",
      "== test data ==\n",
      "stem-color\n",
      "w    797365\n",
      "n    668156\n",
      "y    250141\n",
      "g     88202\n",
      "o     75094\n",
      "e     68804\n",
      "p     36356\n",
      "b      4895\n",
      "c         8\n",
      "Name: count, dtype: int64\n",
      "NaN: 88943\n"
     ]
    }
   ],
   "source": [
    "print(\"== train data ==\")\n",
    "print(train_data[\"stem-color\"].value_counts())\n",
    "print(f'NaN: {train_data[\"stem-color\"].isna().sum()}')\n",
    "\n",
    "print(\"== test data ==\")\n",
    "print(test_data[\"stem-color\"].value_counts())\n",
    "print(f'NaN: {test_data[\"stem-color\"].isna().sum()}')"
   ]
  },
  {
   "cell_type": "markdown",
   "metadata": {},
   "source": [
    "## veil-type\n",
    "- partial(부분적)=p\n",
    "- universal(전면적)=u"
   ]
  },
  {
   "cell_type": "code",
   "execution_count": 56,
   "metadata": {},
   "outputs": [
    {
     "data": {
      "text/plain": [
       "array([nan, 'u', 'd', 'a', 'h', '21.11', 'g', 'c', 'e', 'y', 'i', 'f',\n",
       "       'is None', 't', 'w', 'p', 'b', 's', 'k', 'r', 'l', 'n', '5.94'],\n",
       "      dtype=object)"
      ]
     },
     "execution_count": 56,
     "metadata": {},
     "output_type": "execute_result"
    }
   ],
   "source": [
    "train_data[\"veil-type\"].unique()"
   ]
  },
  {
   "cell_type": "code",
   "execution_count": 57,
   "metadata": {},
   "outputs": [
    {
     "data": {
      "text/plain": [
       "array(['u', nan, 'l', 'e', 'y', 'w', 'p', 'g', 'k', 'a', 's', 'c', 'b',\n",
       "       'n', '11', 'm'], dtype=object)"
      ]
     },
     "execution_count": 57,
     "metadata": {},
     "output_type": "execute_result"
    }
   ],
   "source": [
    "test_data[\"veil-type\"].unique()"
   ]
  },
  {
   "cell_type": "code",
   "execution_count": 58,
   "metadata": {},
   "outputs": [],
   "source": [
    "veil_type_value = ['p', 'u']\n",
    "\n",
    "outlier_to_nan(train_data, \"veil-type\", veil_type_value)\n",
    "outlier_to_nan(test_data, \"veil-type\", veil_type_value)"
   ]
  },
  {
   "cell_type": "code",
   "execution_count": 59,
   "metadata": {},
   "outputs": [
    {
     "name": "stdout",
     "output_type": "stream",
     "text": [
      "== train data ==\n",
      "veil-type\n",
      "u    159373\n",
      "p         2\n",
      "Name: count, dtype: int64\n",
      "NaN: 2957570\n",
      "== test data ==\n",
      "veil-type\n",
      "u    106373\n",
      "p         3\n",
      "Name: count, dtype: int64\n",
      "NaN: 1971588\n"
     ]
    }
   ],
   "source": [
    "print(\"== train data ==\")\n",
    "print(train_data[\"veil-type\"].value_counts())\n",
    "print(f'NaN: {train_data[\"veil-type\"].isna().sum()}')\n",
    "\n",
    "print(\"== test data ==\")\n",
    "print(test_data[\"veil-type\"].value_counts())\n",
    "print(f'NaN: {test_data[\"veil-type\"].isna().sum()}')"
   ]
  },
  {
   "cell_type": "markdown",
   "metadata": {},
   "source": [
    "## veil-color\n",
    "- brown(갈색)=n\n",
    "- orange(주황색)=o\n",
    "- white(흰색)=w\n",
    "- yellow(노랑색)=y"
   ]
  },
  {
   "cell_type": "code",
   "execution_count": 60,
   "metadata": {},
   "outputs": [
    {
     "data": {
      "text/plain": [
       "array([nan, 'n', 'w', 'k', 'y', 'e', 'u', 'p', 'd', 'g', 'r', 'h', 's',\n",
       "       '8.25', 't', 'c', 'o', 'i', '2.49', 'f', 'a', 'b', 'l', 'z',\n",
       "       '3.32'], dtype=object)"
      ]
     },
     "execution_count": 60,
     "metadata": {},
     "output_type": "execute_result"
    }
   ],
   "source": [
    "train_data[\"veil-color\"].unique()"
   ]
  },
  {
   "cell_type": "code",
   "execution_count": 61,
   "metadata": {},
   "outputs": [
    {
     "data": {
      "text/plain": [
       "array(['w', nan, 'n', 'y', 'e', 'u', 'k', 'i', 'p', 'g', 'r', 'f', 'b',\n",
       "       'h', 's', 't', '4.02', 'o', 'd', 'm', 'l', '9', 'c', 'a'],\n",
       "      dtype=object)"
      ]
     },
     "execution_count": 61,
     "metadata": {},
     "output_type": "execute_result"
    }
   ],
   "source": [
    "test_data[\"veil-color\"].unique()"
   ]
  },
  {
   "cell_type": "code",
   "execution_count": 62,
   "metadata": {},
   "outputs": [],
   "source": [
    "veil_color_value = ['n', 'o', 'w', 'y']\n",
    "\n",
    "outlier_to_nan(train_data, \"veil-color\", veil_color_value)\n",
    "outlier_to_nan(test_data, \"veil-color\", veil_color_value)"
   ]
  },
  {
   "cell_type": "code",
   "execution_count": 63,
   "metadata": {},
   "outputs": [
    {
     "name": "stdout",
     "output_type": "stream",
     "text": [
      "== train data ==\n",
      "veil-color\n",
      "w    279070\n",
      "y     30473\n",
      "n     30039\n",
      "o        13\n",
      "Name: count, dtype: int64\n",
      "NaN: 2777350\n",
      "== test data ==\n",
      "veil-color\n",
      "w    186432\n",
      "y     20782\n",
      "n     20256\n",
      "o         5\n",
      "Name: count, dtype: int64\n",
      "NaN: 1850489\n"
     ]
    }
   ],
   "source": [
    "print(\"== train data ==\")\n",
    "print(train_data[\"veil-color\"].value_counts())\n",
    "print(f'NaN: {train_data[\"veil-color\"].isna().sum()}')\n",
    "\n",
    "print(\"== test data ==\")\n",
    "print(test_data[\"veil-color\"].value_counts())\n",
    "print(f'NaN: {test_data[\"veil-color\"].isna().sum()}')"
   ]
  },
  {
   "cell_type": "markdown",
   "metadata": {},
   "source": [
    "## has-ring\n",
    "- 고리있음 (true, t)\n",
    "- 고리 없음 (false, f)"
   ]
  },
  {
   "cell_type": "code",
   "execution_count": 64,
   "metadata": {},
   "outputs": [
    {
     "data": {
      "text/plain": [
       "array(['f', 't', 'h', 'r', 'y', 'c', 'e', 'g', 'l', 's', nan, 'p', 'x',\n",
       "       'k', 'z', 'f has-ring', 'd', 'o', 'n', 'm', 'i', '10.3', 'w', 'a'],\n",
       "      dtype=object)"
      ]
     },
     "execution_count": 64,
     "metadata": {},
     "output_type": "execute_result"
    }
   ],
   "source": [
    "train_data[\"has-ring\"].unique()"
   ]
  },
  {
   "cell_type": "code",
   "execution_count": 65,
   "metadata": {},
   "outputs": [
    {
     "data": {
      "text/plain": [
       "array(['t', 'f', nan, 'u', 'a', 'c', 'l', 'g', 'i', 'm', 'p', 'r', 'x',\n",
       "       'y', 'd', 'e', 'z', 'k', 'o', 'h', 'b', 's', 'w', '20.96'],\n",
       "      dtype=object)"
      ]
     },
     "execution_count": 65,
     "metadata": {},
     "output_type": "execute_result"
    }
   ],
   "source": [
    "test_data[\"has-ring\"].unique()"
   ]
  },
  {
   "cell_type": "code",
   "execution_count": 66,
   "metadata": {},
   "outputs": [],
   "source": [
    "has_ring_value = ['t', 'f']\n",
    "\n",
    "outlier_to_nan(train_data, \"has-ring\", has_ring_value)\n",
    "outlier_to_nan(test_data, \"has-ring\", has_ring_value)"
   ]
  },
  {
   "cell_type": "code",
   "execution_count": 67,
   "metadata": {},
   "outputs": [
    {
     "name": "stdout",
     "output_type": "stream",
     "text": [
      "== train data ==\n",
      "has-ring\n",
      "f    2368820\n",
      "t     747982\n",
      "Name: count, dtype: int64\n",
      "NaN: 143\n",
      "== test data ==\n",
      "has-ring\n",
      "f    1578092\n",
      "t     499759\n",
      "Name: count, dtype: int64\n",
      "NaN: 113\n"
     ]
    }
   ],
   "source": [
    "print(\"== train data ==\")\n",
    "print(train_data[\"has-ring\"].value_counts())\n",
    "print(f'NaN: {train_data[\"has-ring\"].isna().sum()}')\n",
    "\n",
    "print(\"== test data ==\")\n",
    "print(test_data[\"has-ring\"].value_counts())\n",
    "print(f'NaN: {test_data[\"has-ring\"].isna().sum()}')"
   ]
  },
  {
   "cell_type": "markdown",
   "metadata": {},
   "source": [
    "## ring-type (NaN을 None으로 볼 것인가? => 일단 n과 NaN은 따로)\n",
    "- cobwebby(거미줄)=c\n",
    "- evanescent(덧없음)=e\n",
    "- flaring(펼침)=f\n",
    "- large(크기 큼)=l\n",
    "- none(없음)=n\n",
    "- pendant(늘어짐)=p\n",
    "- sheathing(덮개형)=s\n",
    "- zone(대칭형)=z"
   ]
  },
  {
   "cell_type": "code",
   "execution_count": 68,
   "metadata": {},
   "outputs": [
    {
     "data": {
      "text/plain": [
       "array(['f', 'z', 'e', nan, 'p', 'l', 'g', 'r', 'm', 'y', 'h', 'o', 't',\n",
       "       'ring-type', 'a', 'd', 's', 'x', '4', 'b', '15', 'u', 'n', 'w',\n",
       "       'does f', '3.12', 'i', 'season', 'k', 'c', 'does-bruise-or-bleed',\n",
       "       '11', '23.6', '1', '14', '2', 'spore-print-color', 'class', 'sp',\n",
       "       '2.87', '8.25'], dtype=object)"
      ]
     },
     "execution_count": 68,
     "metadata": {},
     "output_type": "execute_result"
    }
   ],
   "source": [
    "train_data[\"ring-type\"].unique()"
   ]
  },
  {
   "cell_type": "code",
   "execution_count": 69,
   "metadata": {},
   "outputs": [
    {
     "data": {
      "text/plain": [
       "array(['g', 'f', 'z', nan, 'r', 'e', 'l', 'p', 'm', 'd', 'n', 'u', 's',\n",
       "       'season', 'k', 't', 'a', 'y', 'o', 'c', 'w', '1', 'x', 'b', 'h',\n",
       "       'ring-type', 'i', '3.48', 'is p', '12.63', '10.36', '8.12',\n",
       "       'does f', '18.5', '9.33', 'spore-print-color', '2'], dtype=object)"
      ]
     },
     "execution_count": 69,
     "metadata": {},
     "output_type": "execute_result"
    }
   ],
   "source": [
    "test_data[\"ring-type\"].unique()"
   ]
  },
  {
   "cell_type": "code",
   "execution_count": 70,
   "metadata": {},
   "outputs": [],
   "source": [
    "ring_type_value = ['c', 'e', 'f', 'l', 'n', 'p', 's', 'z']\n",
    "\n",
    "outlier_to_nan(train_data, \"ring-type\", ring_type_value)\n",
    "outlier_to_nan(test_data, \"ring-type\", ring_type_value)"
   ]
  },
  {
   "cell_type": "code",
   "execution_count": 71,
   "metadata": {},
   "outputs": [
    {
     "name": "stdout",
     "output_type": "stream",
     "text": [
      "== train data ==\n",
      "ring-type\n",
      "f    2477170\n",
      "e     120006\n",
      "z     113780\n",
      "l      73443\n",
      "p      67678\n",
      "n         34\n",
      "s         18\n",
      "c         11\n",
      "Name: count, dtype: int64\n",
      "NaN: 264805\n",
      "== test data ==\n",
      "ring-type\n",
      "f    1650200\n",
      "e      80348\n",
      "z      75917\n",
      "l      48847\n",
      "p      45654\n",
      "n         16\n",
      "c         13\n",
      "s         12\n",
      "Name: count, dtype: int64\n",
      "NaN: 176957\n"
     ]
    }
   ],
   "source": [
    "print(\"== train data ==\")\n",
    "print(train_data[\"ring-type\"].value_counts())\n",
    "print(f'NaN: {train_data[\"ring-type\"].isna().sum()}')\n",
    "\n",
    "print(\"== test data ==\")\n",
    "print(test_data[\"ring-type\"].value_counts())\n",
    "print(f'NaN: {test_data[\"ring-type\"].isna().sum()}')"
   ]
  },
  {
   "cell_type": "markdown",
   "metadata": {},
   "source": [
    "## spore-print-color\n",
    "- black(검정)=k\n",
    "- brown(갈색)=n\n",
    "- buff(담황색)=b\n",
    "- chocolate(초콜릿색)=h\n",
    "- green(녹색)=r\n",
    "- orange(주황색)=o\n",
    "- purple(보라색)=u\n",
    "- white(흰색)=w\n",
    "- yellow(노랑색)=y"
   ]
  },
  {
   "cell_type": "code",
   "execution_count": 72,
   "metadata": {},
   "outputs": [
    {
     "data": {
      "text/plain": [
       "array([nan, 'k', 'w', 'p', 'n', 'r', 'u', 'g', 't', 'f', 'd', 'l', 'y',\n",
       "       'a', 's', '2.49', 'e', 'o', 'c', 'b', '10 None', 'h', 'x',\n",
       "       '9 None', 'i', 'm', 'veil-color', 'class', '2.62', 'season',\n",
       "       '9.55', '6.36', '4.58'], dtype=object)"
      ]
     },
     "execution_count": 72,
     "metadata": {},
     "output_type": "execute_result"
    }
   ],
   "source": [
    "train_data[\"spore-print-color\"].unique()"
   ]
  },
  {
   "cell_type": "code",
   "execution_count": 73,
   "metadata": {},
   "outputs": [
    {
     "data": {
      "text/plain": [
       "array([nan, 'p', 'k', 'w', 'n', 'r', 'g', 'u', 'b', 'o', 'f', 't', 'e',\n",
       "       'h', 'veil-color', 'd', 'l', 'i', 's', 'y', 'a', '17.72', '2.52',\n",
       "       '8.82', '6.14', 'c', '27.48', 'ring-type', 'z', 'x', '26.48',\n",
       "       '3.65', '4', '2.92'], dtype=object)"
      ]
     },
     "execution_count": 73,
     "metadata": {},
     "output_type": "execute_result"
    }
   ],
   "source": [
    "test_data[\"spore-print-color\"].unique()"
   ]
  },
  {
   "cell_type": "code",
   "execution_count": 74,
   "metadata": {},
   "outputs": [],
   "source": [
    "spore_print_color_value = ['k', 'n', 'b', 'h', 'r', 'o', 'u', 'w', 'y']\n",
    "\n",
    "outlier_to_nan(train_data, \"spore-print-color\", spore_print_color_value)\n",
    "outlier_to_nan(test_data, \"spore-print-color\", spore_print_color_value)"
   ]
  },
  {
   "cell_type": "code",
   "execution_count": 75,
   "metadata": {},
   "outputs": [
    {
     "name": "stdout",
     "output_type": "stream",
     "text": [
      "== train data ==\n",
      "spore-print-color\n",
      "k    107310\n",
      "w     50173\n",
      "n     22646\n",
      "r      7975\n",
      "u      7256\n",
      "y        36\n",
      "b         5\n",
      "o         3\n",
      "h         3\n",
      "Name: count, dtype: int64\n",
      "NaN: 2921538\n",
      "== test data ==\n",
      "spore-print-color\n",
      "k    71573\n",
      "w    33657\n",
      "n    15081\n",
      "r     5305\n",
      "u     4845\n",
      "y       18\n",
      "o        8\n",
      "b        7\n",
      "h        3\n",
      "Name: count, dtype: int64\n",
      "NaN: 1947467\n"
     ]
    }
   ],
   "source": [
    "print(\"== train data ==\")\n",
    "print(train_data[\"spore-print-color\"].value_counts())\n",
    "print(f'NaN: {train_data[\"spore-print-color\"].isna().sum()}')\n",
    "\n",
    "print(\"== test data ==\")\n",
    "print(test_data[\"spore-print-color\"].value_counts())\n",
    "print(f'NaN: {test_data[\"spore-print-color\"].isna().sum()}')"
   ]
  },
  {
   "cell_type": "markdown",
   "metadata": {},
   "source": [
    "## habitat\n",
    "- grasses(풀)=g\n",
    "- leaves(잎)=l \n",
    "- meadows(목초지)=m\n",
    "- paths(길)=p\n",
    "- urban(도시)=u\n",
    "- waste(황무지)=w\n",
    "- woods(숲)=d "
   ]
  },
  {
   "cell_type": "code",
   "execution_count": 76,
   "metadata": {},
   "outputs": [
    {
     "data": {
      "text/plain": [
       "array(['d', 'l', 'g', 'h', 'p', 'm', 'u', 'w', 'y', nan, 'n', 'a', 's',\n",
       "       'k', 'habitat', 'z', '8.09', '17.1', 'b', 't', 'c', '9.28',\n",
       "       'ring-type', 'e', 'r', 'does-bruise-or-bleed', 'f', 'is w', 'o',\n",
       "       '2.94', 'x', '4', 'is h', '5.56', 'class', 'i', '10.07', '7.31',\n",
       "       '5.62', 'spore-print-color', 'cap-diameter', '3.11', '16.46',\n",
       "       '7.37', 'veil-type', '17.38', '1.66', '6.63', '18.35', '6.75',\n",
       "       '2.44', '3.68', '2.25'], dtype=object)"
      ]
     },
     "execution_count": 76,
     "metadata": {},
     "output_type": "execute_result"
    }
   ],
   "source": [
    "train_data[\"habitat\"].unique()"
   ]
  },
  {
   "cell_type": "code",
   "execution_count": 77,
   "metadata": {},
   "outputs": [
    {
     "data": {
      "text/plain": [
       "array(['d', 'p', 'u', 'g', 'h', 'm', 'l', 'w', 's', 't', 'habitat', 'k',\n",
       "       nan, 'n', 'x', 'o', 'e', 'a', 'spore-print-color', 'class', 'c',\n",
       "       'b', 'y', 'r', '4.58', '4.76', 'has-ring', '19.85', 'f', '2.53',\n",
       "       '9.01', '2.02', '5.84', '7.01', 'i', '5.92', '5.83', 'z', '1.75',\n",
       "       '3.19'], dtype=object)"
      ]
     },
     "execution_count": 77,
     "metadata": {},
     "output_type": "execute_result"
    }
   ],
   "source": [
    "test_data[\"habitat\"].unique()"
   ]
  },
  {
   "cell_type": "code",
   "execution_count": 78,
   "metadata": {},
   "outputs": [],
   "source": [
    "habitat_value = ['g', 'l', 'm', 'p', 'u', 'w', 'd']\n",
    "\n",
    "outlier_to_nan(train_data, \"habitat\", habitat_value)\n",
    "outlier_to_nan(test_data, \"habitat\", habitat_value)"
   ]
  },
  {
   "cell_type": "code",
   "execution_count": 79,
   "metadata": {},
   "outputs": [
    {
     "name": "stdout",
     "output_type": "stream",
     "text": [
      "== train data ==\n",
      "habitat\n",
      "d    2177573\n",
      "g     454908\n",
      "l     171892\n",
      "m     150969\n",
      "w      18530\n",
      "p      17180\n",
      "u       5264\n",
      "Name: count, dtype: int64\n",
      "NaN: 120629\n",
      "== test data ==\n",
      "habitat\n",
      "d    1450420\n",
      "g     304300\n",
      "l     114458\n",
      "m     101258\n",
      "w      12324\n",
      "p      11429\n",
      "u       3434\n",
      "Name: count, dtype: int64\n",
      "NaN: 80341\n"
     ]
    }
   ],
   "source": [
    "print(\"== train data ==\")\n",
    "print(train_data[\"habitat\"].value_counts())\n",
    "print(f'NaN: {train_data[\"habitat\"].isna().sum()}')\n",
    "\n",
    "print(\"== test data ==\")\n",
    "print(test_data[\"habitat\"].value_counts())\n",
    "print(f'NaN: {test_data[\"habitat\"].isna().sum()}')"
   ]
  },
  {
   "cell_type": "code",
   "execution_count": 83,
   "metadata": {},
   "outputs": [],
   "source": [
    "train_data.to_csv(\"train_outlier_preprocessing.csv\", index=False)\n",
    "test_data.to_csv(\"test_outlier_preprocessing.csv\", index=False)"
   ]
  }
 ],
 "metadata": {
  "kernelspec": {
   "display_name": "mushrooms",
   "language": "python",
   "name": "python3"
  },
  "language_info": {
   "codemirror_mode": {
    "name": "ipython",
    "version": 3
   },
   "file_extension": ".py",
   "mimetype": "text/x-python",
   "name": "python",
   "nbconvert_exporter": "python",
   "pygments_lexer": "ipython3",
   "version": "3.11.9"
  }
 },
 "nbformat": 4,
 "nbformat_minor": 2
}
